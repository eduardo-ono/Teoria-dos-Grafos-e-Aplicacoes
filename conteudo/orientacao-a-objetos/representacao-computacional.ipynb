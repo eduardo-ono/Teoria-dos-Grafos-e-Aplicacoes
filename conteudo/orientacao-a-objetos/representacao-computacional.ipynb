{
 "cells": [
  {
   "cell_type": "code",
   "execution_count": null,
   "metadata": {},
   "outputs": [],
   "source": []
  },
  {
   "cell_type": "markdown",
   "metadata": {},
   "source": [
    "### Vídeos de Apoio\n",
    "\n",
    "| Thumb | Descrição |\n",
    "| :-: | --- |\n",
    "| [![img](https://img.youtube.com/vi/HDUzBEG1GlA/default.jpg)](https://www.youtube.com/watch?v=HDUzBEG1GlA) | <sup>[Joe James]</sup><br>[__Python: 2 Ways to Represent GRAPHS__](https://www.youtube.com/watch?v=HDUzBEG1GlA)<br><sub>(9:12, YouTube, Abr/2016)</sub>\n"
   ]
  }
 ],
 "metadata": {
  "language_info": {
   "name": "python"
  },
  "orig_nbformat": 4
 },
 "nbformat": 4,
 "nbformat_minor": 2
}
