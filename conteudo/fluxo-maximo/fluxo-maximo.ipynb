{
 "cells": [
  {
   "cell_type": "markdown",
   "metadata": {},
   "source": [
    "\n",
    "| Thumb | Descrição |\n",
    "| :-: | --- |\n",
    "| [![img](https://img.youtube.com/vi/pGUFa4YRBuM/default.jpg)](https://www.youtube.com/watch?v=pGUFa4YRBuM) | <sup>[Daniel Ratton Figueiredo]</sup><br>[__Teoria dos Grafos - Aula 17__](https://www.youtube.com/watch?v=pGUFa4YRBuM)<br><sub>(23:14, YouTube, Mai/2021)</sub>\n"
   ]
  }
 ],
 "metadata": {
  "kernelspec": {
   "display_name": "Python 3.9.13 ('grafos')",
   "language": "python",
   "name": "python3"
  },
  "language_info": {
   "name": "python",
   "version": "3.9.13"
  },
  "orig_nbformat": 4,
  "vscode": {
   "interpreter": {
    "hash": "9f7dbbe4e07c9ae3e2c2b938d72170f008c0d97211cd9ca382ca202f35b48522"
   }
  }
 },
 "nbformat": 4,
 "nbformat_minor": 2
}
