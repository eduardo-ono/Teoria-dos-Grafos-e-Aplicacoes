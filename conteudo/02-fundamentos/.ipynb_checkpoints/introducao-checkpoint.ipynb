{
 "cells": [
  {
   "cell_type": "markdown",
   "id": "f355a4ce-dd0a-42fe-9bd3-5c6e59662256",
   "metadata": {
    "tags": []
   },
   "source": [
    "# Teoria dos Grafos e Aplicações\n",
    "---\n",
    "#### Prof. Eduardo Ono\n",
    "\n",
    "<br>\n",
    "\n",
    "## Referências\n",
    "\n",
    "* https://www.youtube.com/watch?v=PfT8_2sKReo\n"
   ]
  },
  {
   "cell_type": "code",
   "execution_count": 2,
   "id": "6ae9d0a6-dd79-4acd-bdaf-615eab93a3bf",
   "metadata": {
    "tags": []
   },
   "outputs": [],
   "source": [
    "import networkx as nx\n",
    "import matplotlib.pyplot as plt"
   ]
  },
  {
   "cell_type": "code",
   "execution_count": null,
   "id": "a1153f3b-ae55-43ea-9fa7-821c15e93461",
   "metadata": {
    "tags": []
   },
   "outputs": [],
   "source": []
  }
 ],
 "metadata": {
  "kernelspec": {
   "display_name": "python3-grafos",
   "language": "python",
   "name": "python3-grafos"
  },
  "language_info": {
   "codemirror_mode": {
    "name": "ipython",
    "version": 3
   },
   "file_extension": ".py",
   "mimetype": "text/x-python",
   "name": "python",
   "nbconvert_exporter": "python",
   "pygments_lexer": "ipython3",
   "version": "3.9.13"
  }
 },
 "nbformat": 4,
 "nbformat_minor": 5
}
