{
 "cells": [
  {
   "cell_type": "markdown",
   "metadata": {},
   "source": [
    "<div align=\"center\">\n",
    "\n",
    "# Algoritmo de Kruskal\n",
    "\n",
    "#### Prof. Eduardo Ono\n",
    "\n",
    "</div>"
   ]
  },
  {
   "cell_type": "code",
   "execution_count": null,
   "metadata": {},
   "outputs": [],
   "source": []
  },
  {
   "cell_type": "markdown",
   "metadata": {},
   "source": [
    "## Vídeos de Apoio\n",
    "\n",
    "| Thumb | Descrição |\n",
    "| :-: | --- |\n",
    "| [![img](https://img.youtube.com/vi/RXIiK_nvkoQ/default.jpg)](https://www.youtube.com/watch?v=RXIiK_nvkoQ) | <sup>[Carla Quem Disse]</sup><br>[__Algoritmo de Kruskal__](https://www.youtube.com/watch?v=RXIiK_nvkoQ)<br><sub>(13:26, YouTube, Mai/2020)</sub>\n",
    "| [![img](https://img.youtube.com/vi/D0bsCCZZUOk/default.jpg)](https://www.youtube.com/watch?v=D0bsCCZZUOk) | <sup>[Paulo Henrique Ribeiro Gabriel]</sup><br>[__Algoritmo de Kruskal__](https://www.youtube.com/watch?v=D0bsCCZZUOk)<br><sub>(18:22, YouTube, Set/2020)</sub>\n"
   ]
  }
 ],
 "metadata": {
  "kernelspec": {
   "display_name": "Python 3.9.13 ('grafos')",
   "language": "python",
   "name": "python3"
  },
  "language_info": {
   "codemirror_mode": {
    "name": "ipython",
    "version": 3
   },
   "file_extension": ".py",
   "mimetype": "text/x-python",
   "name": "python",
   "nbconvert_exporter": "python",
   "pygments_lexer": "ipython3",
   "version": "3.9.13"
  },
  "orig_nbformat": 4,
  "vscode": {
   "interpreter": {
    "hash": "9f7dbbe4e07c9ae3e2c2b938d72170f008c0d97211cd9ca382ca202f35b48522"
   }
  }
 },
 "nbformat": 4,
 "nbformat_minor": 2
}
