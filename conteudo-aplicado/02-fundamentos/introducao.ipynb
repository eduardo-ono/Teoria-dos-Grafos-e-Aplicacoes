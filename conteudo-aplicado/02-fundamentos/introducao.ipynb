{
 "cells": [
  {
   "cell_type": "markdown",
   "id": "f355a4ce-dd0a-42fe-9bd3-5c6e59662256",
   "metadata": {
    "tags": []
   },
   "source": [
    "# Teoria dos Grafos e Aplicações\n",
    "\n",
    "__Prof. Eduardo Ono__\n",
    "\n",
    "&nbsp;"
   ]
  },
  {
   "cell_type": "markdown",
   "id": "f03b9f0e",
   "metadata": {},
   "source": [
    "## Vértices"
   ]
  },
  {
   "cell_type": "code",
   "execution_count": 2,
   "id": "6ae9d0a6-dd79-4acd-bdaf-615eab93a3bf",
   "metadata": {
    "tags": []
   },
   "outputs": [],
   "source": [
    "import networkx as nx\n",
    "import matplotlib.pyplot as plt"
   ]
  },
  {
   "cell_type": "code",
   "execution_count": 3,
   "id": "a1153f3b-ae55-43ea-9fa7-821c15e93461",
   "metadata": {
    "tags": []
   },
   "outputs": [
    {
     "name": "stdout",
     "output_type": "stream",
     "text": [
      "Vértices: ['v1', 'v2', 'v3', 'v4', 'v5']\n"
     ]
    }
   ],
   "source": [
    "grafo = nx.Graph()\n",
    "vertices = ['v1', 'v2', 'v3', 'v4', 'v5']\n",
    "for v in vertices:\n",
    "    grafo.add_node(v)\n",
    "print('Vértices: ', end='')\n",
    "print(grafo.nodes())"
   ]
  },
  {
   "cell_type": "markdown",
   "id": "70597dfa",
   "metadata": {},
   "source": [
    "## Arestas"
   ]
  },
  {
   "cell_type": "code",
   "execution_count": 4,
   "id": "1ccabcc8",
   "metadata": {},
   "outputs": [
    {
     "name": "stdout",
     "output_type": "stream",
     "text": [
      "Arestas: [('v1', 'v2'), ('v1', 'v3'), ('v2', 'v3'), ('v2', 'v4'), ('v3', 'v5')]\n"
     ]
    }
   ],
   "source": [
    "arestas = [\n",
    "    ('v1', 'v2'), ('v1', 'v3'),\n",
    "    ('v2', 'v3'), ('v2', 'v4'),\n",
    "    ('v3', 'v5')\n",
    "]\n",
    "grafo.add_edges_from(arestas)\n",
    "print('Arestas: ', end='')\n",
    "print(grafo.edges())"
   ]
  },
  {
   "cell_type": "code",
   "execution_count": 6,
   "id": "abc1a9ea",
   "metadata": {},
   "outputs": [
    {
     "data": {
      "image/png": "[encoded data removed]",
      "text/plain": [
       "<Figure size 432x288 with 1 Axes>"
      ]
     },
     "metadata": {},
     "output_type": "display_data"
    }
   ],
   "source": [
    "plt.figure(1)\n",
    "nx.draw_networkx(grafo, pos=nx.spring_layout(grafo), node_color='coral', node_size=800)"
   ]
  },
  {
   "cell_type": "markdown",
   "id": "5e5bb45e",
   "metadata": {},
   "source": [
    "### Referências\n",
    "\n",
    "* https://www.youtube.com/watch?v=PfT8_2sKReo\n",
    "* https://www.youtube.com/watch?v=f0Wh-Ae9AxM\n",
    "\n",
    "&nbsp;"
   ]
  }
 ],
 "metadata": {
  "kernelspec": {
   "display_name": "python3-grafos",
   "language": "python",
   "name": "python3-grafos"
  },
  "language_info": {
   "codemirror_mode": {
    "name": "ipython",
    "version": 3
   },
   "file_extension": ".py",
   "mimetype": "text/x-python",
   "name": "python",
   "nbconvert_exporter": "python",
   "pygments_lexer": "ipython3",
   "version": "3.9.13"
  }
 },
 "nbformat": 4,
 "nbformat_minor": 5
}
