{
 "cells": [
  {
   "cell_type": "markdown",
   "metadata": {},
   "source": [
    "## Matriz de Adjacência"
   ]
  },
  {
   "cell_type": "markdown",
   "metadata": {},
   "source": []
  },
  {
   "cell_type": "code",
   "execution_count": 26,
   "metadata": {},
   "outputs": [],
   "source": [
    "import networkx as nx\n",
    "\n",
    "def draw_options(node_size=600, node_color='coral', font_size=16, with_labels=True):\n",
    "    return {\n",
    "        'node_size': node_size,\n",
    "        'node_color': node_color,\n",
    "        'font_size': font_size,\n",
    "        'with_labels': with_labels\n",
    "    }\n"
   ]
  },
  {
   "cell_type": "code",
   "execution_count": 27,
   "metadata": {},
   "outputs": [
    {
     "name": "stdout",
     "output_type": "stream",
     "text": [
      "Vértices: ['A', 'B', 'C', 'D', 'E']\n",
      "Arestas: [('A', 'B'), ('A', 'D'), ('B', 'C'), ('B', 'E')]\n"
     ]
    },
    {
     "data": {
      "image/png": "[encoded data removed]",
      "text/plain": [
       "<Figure size 432x288 with 1 Axes>"
      ]
     },
     "metadata": {},
     "output_type": "display_data"
    }
   ],
   "source": [
    "G = nx.Graph()\n",
    "G.add_nodes_from(['A','B','C','D','E'])\n",
    "G.add_edges_from([('A','B'), ('A','D'), ('B','C'), ('B','E')])\n",
    "print('Vértices:', G.nodes())\n",
    "print('Arestas:', G.edges())\n",
    "nx.draw(G, **draw_options())\n"
   ]
  },
  {
   "cell_type": "code",
   "execution_count": 28,
   "metadata": {},
   "outputs": [
    {
     "name": "stdout",
     "output_type": "stream",
     "text": [
      "Matriz de Adjacência:\n",
      " [[0 1 0 1 0]\n",
      " [1 0 1 0 1]\n",
      " [0 1 0 0 0]\n",
      " [1 0 0 0 0]\n",
      " [0 1 0 0 0]]\n"
     ]
    },
    {
     "name": "stderr",
     "output_type": "stream",
     "text": [
      "C:\\Users\\Eduardo\\AppData\\Local\\Temp\\ipykernel_26856\\4135955489.py:1: FutureWarning: adjacency_matrix will return a scipy.sparse array instead of a matrix in Networkx 3.0.\n",
      "  ma = nx.adjacency_matrix(G)\n"
     ]
    }
   ],
   "source": [
    "ma = nx.adjacency_matrix(G)\n",
    "print('Matriz de Adjacência:\\n', ma.todense())"
   ]
  }
 ],
 "metadata": {
  "kernelspec": {
   "display_name": "Python3-grafos",
   "language": "python",
   "name": "python3-grafos"
  },
  "language_info": {
   "codemirror_mode": {
    "name": "ipython",
    "version": 3
   },
   "file_extension": ".py",
   "mimetype": "text/x-python",
   "name": "python",
   "nbconvert_exporter": "python",
   "pygments_lexer": "ipython3",
   "version": "3.9.13"
  },
  "orig_nbformat": 4,
  "vscode": {
   "interpreter": {
    "hash": "9f7dbbe4e07c9ae3e2c2b938d72170f008c0d97211cd9ca382ca202f35b48522"
   }
  }
 },
 "nbformat": 4,
 "nbformat_minor": 2
}
