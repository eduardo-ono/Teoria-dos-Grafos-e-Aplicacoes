{
 "cells": [
  {
   "cell_type": "markdown",
   "metadata": {},
   "source": [
    "\n",
    "<h1 align=\"center\">Algoritmo de Dijkstra</h1>\n",
    "\n",
    "<h4 align=\"center\">Prof. Eduardo Ono</h4>\n",
    "\n",
    "<br>"
   ]
  },
  {
   "cell_type": "markdown",
   "metadata": {},
   "source": [
    "## Vídeos de Apoio\n",
    "\n",
    "| Thumb | Descrição |\n",
    "| :-: | --- |\n",
    "| [![img](https://img.youtube.com/vi/ftYNBrMVOYQ/default.jpg)](https://www.youtube.com/watch?v=ftYNBrMVOYQ) | <sup>[Aulas de Computação]</sup><br>[__Algoritmo de Dijkstra - Algoritmos em Grafos__](https://www.youtube.com/watch?v=ftYNBrMVOYQ)<br><sub>(30:29, YouTube, Mar/2021)</sub>\n"
   ]
  }
 ],
 "metadata": {
  "kernelspec": {
   "display_name": "Python 3.9.13 ('grafos')",
   "language": "python",
   "name": "python3"
  },
  "language_info": {
   "name": "python",
   "version": "3.9.13"
  },
  "orig_nbformat": 4,
  "vscode": {
   "interpreter": {
    "hash": "9f7dbbe4e07c9ae3e2c2b938d72170f008c0d97211cd9ca382ca202f35b48522"
   }
  }
 },
 "nbformat": 4,
 "nbformat_minor": 2
}
