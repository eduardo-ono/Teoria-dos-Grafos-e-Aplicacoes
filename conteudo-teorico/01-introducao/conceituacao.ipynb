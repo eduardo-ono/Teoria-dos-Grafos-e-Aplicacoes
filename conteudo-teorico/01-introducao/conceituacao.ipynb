{
 "cells": [
  {
   "cell_type": "markdown",
   "metadata": {},
   "source": [
    "Conceituação"
   ]
  },
  {
   "cell_type": "markdown",
   "metadata": {},
   "source": [
    "> A __*Teoria dos Grafos*__ é um ramo da matemática que estuda as relações entre os objetos de um determinado conjunto. Para tal são utilizadas estruturas chamadas de __grafos__."
   ]
  },
  {
   "cell_type": "markdown",
   "metadata": {},
   "source": [
    "> __*Grafos*__ são estruturas que mapeiam relações entre objetos. Esses objetos são denominados vértices (ou nós) e as conexões entre eles são denominadas arestas (ou arcos)."
   ]
  }
 ],
 "metadata": {
  "kernelspec": {
   "display_name": "python3-grafos",
   "language": "python",
   "name": "python3-grafos"
  },
  "language_info": {
   "name": "python",
   "version": "3.9.13"
  },
  "orig_nbformat": 4
 },
 "nbformat": 4,
 "nbformat_minor": 2
}
