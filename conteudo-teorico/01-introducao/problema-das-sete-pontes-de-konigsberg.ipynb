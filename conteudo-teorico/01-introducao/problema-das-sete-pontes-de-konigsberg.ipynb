{
 "cells": [
  {
   "cell_type": "markdown",
   "metadata": {},
   "source": [
    "> Teoria das Grafos e Aplicações\n",
    "\n",
    "# O Problema das Sete Pontes de Königsberg\n",
    "\n",
    "__Prof. Eduardo Ono__\n",
    "\n",
    "&nbsp;"
   ]
  },
  {
   "cell_type": "markdown",
   "metadata": {},
   "source": [
    "## Königsberg (Prussia) --> Kaliningrad (Rússia)\n",
    "\n",
    "<p align=\"center\">\n",
    "    <img src=\"./img/konigsberg.jpg\" alt=\"img\" width=\"640px\"><br>\n",
    "    <sub>Fonte: https://www.youtube.com/watch?v=b2f9Zf-MDtU</sub>\n",
    "</p>\n",
    "\n",
    "&nbsp;"
   ]
  },
  {
   "cell_type": "markdown",
   "metadata": {},
   "source": [
    "## Mapa de Königsberg em 1652\n",
    "\n",
    "<div align=\"center\">\n",
    "    <img src=\"./img/mapa-konigsberg-1652.jpg\" alt=\"img\" width=\"540px\"><br>\n",
    "    <sub>Fonte: https://en.wikipedia.org/wiki/File:Image-Koenigsberg,_Map_by_Merian-Erben_1652.jpg</sub>\n",
    "</div>\n",
    "\n",
    "&nbsp;"
   ]
  },
  {
   "cell_type": "markdown",
   "metadata": {},
   "source": [
    "## Análise de Euler (1736)\n",
    "\n",
    "<div align=\"center\">\n",
    "    <img src=\"./img/sete-pontes-de-konigsberg.jpg\"><br>\n",
    "    <sub>Fonte: https://en.wikipedia.org/wiki/Seven_Bridges_of_K%C3%B6nigsberg</sub>\n",
    "</div>\n",
    "\n",
    "&nbsp;"
   ]
  }
 ],
 "metadata": {
  "kernelspec": {
   "display_name": "Python 3.9.13 ('grafos')",
   "language": "python",
   "name": "python3"
  },
  "language_info": {
   "name": "python",
   "version": "3.9.13"
  },
  "orig_nbformat": 4,
  "vscode": {
   "interpreter": {
    "hash": "1c7fb69ec0120a7bfae17680f5348dc79368d3eaaea67ee440f5569267ea8c67"
   }
  }
 },
 "nbformat": 4,
 "nbformat_minor": 2
}
