{
 "cells": [
  {
   "cell_type": "markdown",
   "metadata": {},
   "source": [
    "<h1 align=\"center\">Conexidade em Grafos</h1>\n",
    "\n",
    "<h4 align=\"center\">Prof. Eduardo Ono</h4>\n",
    "\n",
    "<br>"
   ]
  },
  {
   "cell_type": "markdown",
   "metadata": {},
   "source": [
    "| DEFINIÇÃO (grafos conexos). |\n",
    "| --- |\n",
    "| $\\qquad$ Um grafo $G(V,E)$ é dito __*conexo*__ (_connected_, em inglês) se existir um caminho (passeio) entre quaisquer dois vértices $u,v \\in V$. Caso contrário, $G$ é dito __*desconexo*__. Em especial, um grafo será _totalmente desconexo_ quando não possuir arestas."
   ]
  },
  {
   "cell_type": "markdown",
   "metadata": {},
   "source": [
    "Um grafo conexo não possui nenhum vértice isolado."
   ]
  },
  {
   "cell_type": "markdown",
   "metadata": {},
   "source": [
    "### Vídeos de Apoio\n",
    "\n",
    "| Thumb | Descrição |\n",
    "| :-: | --- |\n",
    "| [![img](https://img.youtube.com/vi/VHT844YrwWI/default.jpg)](https://www.youtube.com/watch?v=VHT844YrwWI&list=PLncEdvQ20-mgGanwuFczm-4IwIdIcIiha&index=38) | <sup>[Carla Quem Disse]</sup><br>[__Conexidade em (di)grafos__](https://www.youtube.com/watch?v=VHT844YrwWI&list=PLncEdvQ20-mgGanwuFczm-4IwIdIcIiha&index=38)<br><sub>(7:55, YouTube, Abr/2020)</sub>\n",
    "\n",
    "&nbsp;"
   ]
  },
  {
   "cell_type": "markdown",
   "metadata": {},
   "source": [
    "---\n",
    "\n",
    "__TEOREMA (_conexidade_).__\n",
    "Se todos os vértices de um grafo $G$ com $n$ vértices têm grau maior ou igual a $\\frac{n-1}{2}$, então $G$ é conexo.\n",
    "\n",
    "__Demonstração.__ \n",
    "\n",
    "---"
   ]
  },
  {
   "cell_type": "markdown",
   "metadata": {},
   "source": [
    "<br>\n",
    "\n",
    "## Referências\n",
    "\n",
    "| Thumb | Descrição |\n",
    "| :-: | --- |\n",
    "| [![img](https://img.youtube.com/vi/eNE1rlXJF_o/default.jpg)](https://www.youtube.com/watch?v=eNE1rlXJF_o) | <sup>[Programa de Iniciação Cientifica da OBMEP]</sup><br>[__Programa de Iniciação Cientifica da OBMEP__](https://www.youtube.com/watch?v=eNE1rlXJF_o)<br><sub>(8:54, YouTube, Dez/2016)</sub>\n"
   ]
  },
  {
   "cell_type": "markdown",
   "metadata": {},
   "source": [
    "Caminho\n",
    "\n",
    "* m = no máximo n - 1"
   ]
  }
 ],
 "metadata": {
  "kernelspec": {
   "display_name": "python3-grafos",
   "language": "python",
   "name": "python3-grafos"
  },
  "language_info": {
   "codemirror_mode": {
    "name": "ipython",
    "version": 3
   },
   "file_extension": ".py",
   "mimetype": "text/x-python",
   "name": "python",
   "nbconvert_exporter": "python",
   "pygments_lexer": "ipython3",
   "version": "3.9.13"
  },
  "orig_nbformat": 4
 },
 "nbformat": 4,
 "nbformat_minor": 2
}
