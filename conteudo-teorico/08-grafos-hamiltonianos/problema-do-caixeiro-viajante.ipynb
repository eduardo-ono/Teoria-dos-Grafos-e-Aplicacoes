{
 "cells": [
  {
   "cell_type": "code",
   "execution_count": null,
   "metadata": {},
   "outputs": [],
   "source": []
  },
  {
   "cell_type": "markdown",
   "metadata": {},
   "source": [
    "O problema do caixeiro viajante (TSP, do inglês _traveling salesman problem_)"
   ]
  },
  {
   "cell_type": "markdown",
   "metadata": {},
   "source": [
    "\n",
    "\n",
    "| Thumb | Descrição | Tópicos Abordados |\n",
    "| :-: | --- | --- |\n",
    "| [![img](https://img.youtube.com/vi/heQeomRPkIw/default.jpg)](https://www.youtube.com/watch?v=heQeomRPkIw) | <sup>[ENSICO]</sup><br>[__O PROBLEMA DO CAIXEIRO VIAJANTE__](https://www.youtube.com/watch?v=heQeomRPkIw)<br><sub>(9:05, YouTube, Dez/2020)</sub> | <li>Algoritmo \"guloso\" ou \"ganancioso\"</li>\n",
    "\n",
    "\n"
   ]
  },
  {
   "cell_type": "markdown",
   "metadata": {},
   "source": [
    "A maioria das versões do TSP depende da desigualdade triangular:\n",
    "\n",
    "$$\n",
    "d(v_1,v_j) \\le d(v_i,v_k) + d(v_k,v_j)\n",
    "$$"
   ]
  },
  {
   "cell_type": "markdown",
   "metadata": {},
   "source": [
    "Ainda não foi encontrado um conjunto de características para identificar garfos Hamiltonianos, tal como existe para grafos Eulerianos. A busca por um conjunto de características que defina um grafo Hamiltoniano continua sendo um dos problemas ainda não solucionados da Teoria dos Grafos."
   ]
  },
  {
   "cell_type": "markdown",
   "metadata": {},
   "source": [
    "## Vídeos Recomendados\n",
    "\n",
    "| Thumb | Descrição | Tópicos Abordados |\n",
    "| :-: | --- | --- |\n",
    "| [![img](https://img.youtube.com/vi/sDBe6R0axAY/default.jpg)](https://www.youtube.com/watch?v=sDBe6R0axAY) | <sup>[Ponto Ótimo]</sup><br>[__Algoritmo Colônia de Formigas - Aplicado Ao Problema do Caixeiro Viajante__](https://www.youtube.com/watch?v=sDBe6R0axAY)<br><sub>(18:59, YouTube, Nov/2017)</sub> | \n",
    "\n",
    "&nbsp;"
   ]
  }
 ],
 "metadata": {
  "kernelspec": {
   "display_name": "python3-grafos",
   "language": "python",
   "name": "python3-grafos"
  },
  "language_info": {
   "name": "python",
   "version": "3.9.13"
  },
  "orig_nbformat": 4,
  "vscode": {
   "interpreter": {
    "hash": "9f7dbbe4e07c9ae3e2c2b938d72170f008c0d97211cd9ca382ca202f35b48522"
   }
  }
 },
 "nbformat": 4,
 "nbformat_minor": 2
}
