{
 "cells": [
  {
   "cell_type": "markdown",
   "metadata": {},
   "source": [
    "<h1 align=\"center\">Fluxos em Redes</h1>\n",
    "\n",
    "<h4 align=\"center\">Prof. Eduardo Ono</h4>\n",
    "\n",
    "&nbsp;"
   ]
  },
  {
   "cell_type": "markdown",
   "metadata": {},
   "source": [
    "## Definição Formal de Rede\n",
    "\n",
    "<hr>\n",
    "\n",
    "__DEFINIÇÃO (rede).__ &nbsp;\n",
    "Uma __*rede*__ é um __multidigrafo__ $D = (V,E)$ onde cada aresta $e \\in E$ possui uma capacidade real $c(e) > 0$.\n",
    "\n",
    "<hr>\n",
    "\n",
    "&nbsp;"
   ]
  },
  {
   "cell_type": "markdown",
   "metadata": {},
   "source": [
    "## Terminologias\n",
    "\n",
    "$\\quad$ Supondo que em uma rede $D$ haja dois vértices especiais $s$ (origem) e $t$ (destino) tais que existam apenas arestas que emanam de $s$ e existam $t$ apenas arestas incidentes. Então, $s$ é dito uma __fonte__ quando alcança todos os demais vértices, e $t$ é dito um __sumidouro__ quando é alcançado por todos os demais vértices.\n",
    "\n",
    "&nbsp;"
   ]
  },
  {
   "cell_type": "markdown",
   "metadata": {},
   "source": [
    "## Definição Formal de Fluxo\n",
    "\n",
    "<hr>\n",
    "\n",
    "__DEFINIÇÃO (fluxo).__ &nbsp;\n",
    "Um __*fluxo*__ em uma rede $D = (V,E)$ é uma função $f: E \\to \\R_+$ tal que:\n",
    "\n",
    "(1) $f(e) \\le c(e)$ para toda aresta $e \\in E$, onde $c(e)$ é a capacidade da aresta $e$;\n",
    "\n",
    "(2) $\\sum_x f(x,v) = \\sum_z f(v,z)$, para todo $v \\in V \\backslash \\{s,t\\}$.\n",
    "\n",
    "<hr>\n",
    "\n",
    "&nbsp;"
   ]
  },
  {
   "cell_type": "markdown",
   "metadata": {},
   "source": [
    "## Vídeos de Apoio\n",
    "\n",
    "| Thumb | Descrição | Tópicos Abordados |\n",
    "| :-: | --- | --- |\n",
    "| [![img](https://img.youtube.com/vi/9oFP1CXy6yA/default.jpg)](https://www.youtube.com/watch?v=9oFP1CXy6yA) | <sup>[Algoritmos em Grafos]</sup><br>[__Fluxos em grafos__](https://www.youtube.com/watch?v=9oFP1CXy6yA)<br><sub>(59:43, YouTube, Abr/2021)</sub> | \n",
    "\n",
    "&nbsp;"
   ]
  }
 ],
 "metadata": {
  "kernelspec": {
   "display_name": "python3-grafos",
   "language": "python",
   "name": "python3-grafos"
  },
  "language_info": {
   "name": "python",
   "version": "3.9.13"
  },
  "orig_nbformat": 4,
  "vscode": {
   "interpreter": {
    "hash": "9f7dbbe4e07c9ae3e2c2b938d72170f008c0d97211cd9ca382ca202f35b48522"
   }
  }
 },
 "nbformat": 4,
 "nbformat_minor": 2
}
