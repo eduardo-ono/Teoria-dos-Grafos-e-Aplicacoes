{
 "cells": [
  {
   "cell_type": "markdown",
   "metadata": {},
   "source": []
  },
  {
   "cell_type": "markdown",
   "metadata": {},
   "source": [
    "__DEFINIÇÃO.__ &nbsp;\n",
    "Colorir um grafo $G$ é atribuir cores aos seus vértices de forma que vértices adjacentes recebam cores distintas (denominada _coloração própria_)."
   ]
  },
  {
   "cell_type": "markdown",
   "metadata": {},
   "source": [
    "__DEFINIÇÃO. (número cromático)__ &nbsp;\n",
    "O __*número cromático*__ é o menor número de cores que pode ser utilizado para uma coloração própria\n",
    "de um grafo $G$. É denotado como $\\chi(G)$."
   ]
  },
  {
   "cell_type": "code",
   "execution_count": 26,
   "metadata": {},
   "outputs": [],
   "source": [
    "%matplotlib inline\n",
    "\n",
    "import networkx as nx\n",
    "import matplotlib.pyplot as plt\n",
    "import matplotlib.cm as cm\n",
    "\n",
    "nx_draw_opt = {\n",
    "    'node_size': 600,\n",
    "    # 'node_color': 'salmon',\n",
    "    'font_size': 16,\n",
    "    'with_labels': True\n",
    "}\n"
   ]
  },
  {
   "cell_type": "code",
   "execution_count": 30,
   "metadata": {},
   "outputs": [
    {
     "name": "stdout",
     "output_type": "stream",
     "text": [
      "d = {0: 0, 1: 1, 2: 0, 3: 1}\n"
     ]
    },
    {
     "ename": "NameError",
     "evalue": "name 'cm' is not defined",
     "output_type": "error",
     "traceback": [
      "\u001b[1;31m---------------------------------------------------------------------------\u001b[0m",
      "\u001b[1;31mNameError\u001b[0m                                 Traceback (most recent call last)",
      "\u001b[1;32mm:\\Disciplinas\\Teoria dos Grafos e Aplicações\\conteudo-teorico\\09-planaridade\\coloracao.ipynb Célula: 5\u001b[0m in \u001b[0;36m<cell line: 7>\u001b[1;34m()\u001b[0m\n\u001b[0;32m      <a href='vscode-notebook-cell:/m%3A/Disciplinas/Teoria%20dos%20Grafos%20e%20Aplica%C3%A7%C3%B5es/conteudo-teorico/09-planaridade/coloracao.ipynb#X11sZmlsZQ%3D%3D?line=4'>5</a>\u001b[0m \u001b[39mprint\u001b[39m(\u001b[39m'\u001b[39m\u001b[39md =\u001b[39m\u001b[39m'\u001b[39m, d)\n\u001b[0;32m      <a href='vscode-notebook-cell:/m%3A/Disciplinas/Teoria%20dos%20Grafos%20e%20Aplica%C3%A7%C3%B5es/conteudo-teorico/09-planaridade/coloracao.ipynb#X11sZmlsZQ%3D%3D?line=5'>6</a>\u001b[0m color_map \u001b[39m=\u001b[39m \u001b[39mlist\u001b[39m(d)\n\u001b[1;32m----> <a href='vscode-notebook-cell:/m%3A/Disciplinas/Teoria%20dos%20Grafos%20e%20Aplica%C3%A7%C3%B5es/conteudo-teorico/09-planaridade/coloracao.ipynb#X11sZmlsZQ%3D%3D?line=6'>7</a>\u001b[0m color_map \u001b[39m=\u001b[39m [cm\u001b[39m.\u001b[39mhot(d)]\n\u001b[0;32m      <a href='vscode-notebook-cell:/m%3A/Disciplinas/Teoria%20dos%20Grafos%20e%20Aplica%C3%A7%C3%B5es/conteudo-teorico/09-planaridade/coloracao.ipynb#X11sZmlsZQ%3D%3D?line=7'>8</a>\u001b[0m \u001b[39mprint\u001b[39m(\u001b[39m'\u001b[39m\u001b[39mcolor_map =\u001b[39m\u001b[39m'\u001b[39m, color_map)\n\u001b[0;32m      <a href='vscode-notebook-cell:/m%3A/Disciplinas/Teoria%20dos%20Grafos%20e%20Aplica%C3%A7%C3%B5es/conteudo-teorico/09-planaridade/coloracao.ipynb#X11sZmlsZQ%3D%3D?line=8'>9</a>\u001b[0m nx\u001b[39m.\u001b[39mdraw(G, node_color\u001b[39m=\u001b[39mcolor_map, \u001b[39m*\u001b[39m\u001b[39m*\u001b[39mnx_draw_opt)\n",
      "\u001b[1;31mNameError\u001b[0m: name 'cm' is not defined"
     ]
    }
   ],
   "source": [
    "# Ref.: https://networkx.org/documentation/stable/reference/algorithms/generated/networkx.algorithms.coloring.greedy_color.html#networkx.algorithms.coloring.greedy_color\n",
    "\n",
    "G = nx.cycle_graph(4)\n",
    "d = nx.coloring.greedy_color(G, strategy=\"largest_first\")\n",
    "print('d =', d)\n",
    "color_map = list(d)\n",
    "color_map = [cm.hot(d)]\n",
    "print('color_map =', color_map)\n",
    "nx.draw(G, node_color=color_map, **nx_draw_opt)"
   ]
  }
 ],
 "metadata": {
  "kernelspec": {
   "display_name": "python3-grafos",
   "language": "python",
   "name": "python3-grafos"
  },
  "language_info": {
   "codemirror_mode": {
    "name": "ipython",
    "version": 3
   },
   "file_extension": ".py",
   "mimetype": "text/x-python",
   "name": "python",
   "nbconvert_exporter": "python",
   "pygments_lexer": "ipython3",
   "version": "3.9.13"
  },
  "orig_nbformat": 4,
  "vscode": {
   "interpreter": {
    "hash": "4356a08162279524cd3b9e75de531ef727587f9de9b0663c7d251e30ac54f01a"
   }
  }
 },
 "nbformat": 4,
 "nbformat_minor": 2
}
