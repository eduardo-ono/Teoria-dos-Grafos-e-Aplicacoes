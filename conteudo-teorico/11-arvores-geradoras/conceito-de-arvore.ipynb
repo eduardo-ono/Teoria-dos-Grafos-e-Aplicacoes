{
 "cells": [
  {
   "cell_type": "markdown",
   "metadata": {},
   "source": [
    "Árvores"
   ]
  },
  {
   "cell_type": "markdown",
   "metadata": {},
   "source": [
    "<div style=\"padding: 10px; border: 2px solid\">\n",
    "\n",
    "<strong>DEFINIÇÃO (árvore).</strong> &nbsp; Um grafo $T$ é uma __*árvore*__ se $T$ é conexo e $e(T) = v(T) - 1$.\n",
    "\n",
    "Equivalentemente, um grafo $T$ é uma __*árvore*__ se $T$ é conexo e não contém ciclos.\n",
    "\n",
    "</div>"
   ]
  },
  {
   "cell_type": "markdown",
   "metadata": {},
   "source": [
    "### Vídeos de Apoio\n",
    "\n",
    "| Thumb | Descrição |\n",
    "| :-: | --- |\n",
    "| [![img](https://img.youtube.com/vi/flyK0iVIHgI/default.jpg)](https://www.youtube.com/watch?v=flyK0iVIHgI) | <sup>[Carla Quem Disse]</sup><br>[__Árvores (grafos)__](https://www.youtube.com/watch?v=flyK0iVIHgI)<br><sub>(16:08, YouTube, Abr/2020)</sub>\n"
   ]
  }
 ],
 "metadata": {
  "kernelspec": {
   "display_name": "Python 3.9.13 ('grafos')",
   "language": "python",
   "name": "python3"
  },
  "language_info": {
   "name": "python",
   "version": "3.9.13"
  },
  "orig_nbformat": 4,
  "vscode": {
   "interpreter": {
    "hash": "9f7dbbe4e07c9ae3e2c2b938d72170f008c0d97211cd9ca382ca202f35b48522"
   }
  }
 },
 "nbformat": 4,
 "nbformat_minor": 2
}
