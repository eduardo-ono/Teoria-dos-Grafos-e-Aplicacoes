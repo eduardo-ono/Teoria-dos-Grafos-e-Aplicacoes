{
 "cells": [
  {
   "cell_type": "markdown",
   "id": "f355a4ce-dd0a-42fe-9bd3-5c6e59662256",
   "metadata": {
    "tags": []
   },
   "source": [
    "# Conjuntos\n",
    "\n",
    "__Prof. Eduardo Ono__\n",
    "\n",
    "&nbsp;"
   ]
  },
  {
   "cell_type": "markdown",
   "id": "282578f4",
   "metadata": {},
   "source": [
    "## Conjuntos\n",
    "\n",
    "### O Conjunto Vazio\n",
    "\n",
    "Denotamos um conjunto vazio $V$ por $V = \\{\\}$ ou $V = \\varnothing$.\n",
    "\n",
    "### Subconjuntos\n",
    "\n",
    "| D<small>EFINIÇÃO</small> (subconjunto). |\n",
    "| --- |\n",
    "| Um conjunto $A$ é um __*subconjunto*__ de um conjunto $B$, denotado por $A \\subset B$, se todo elemento de $A$ também é elemento de $B$. <p align=\"right\"><small>[TRUDEAU_1993]</small></p>\n",
    "\n",
    "__Exemplo__:\n",
    "\n",
    "$$\n",
    "\\begin{align*}\n",
    "B & = \\{1, 2, 3, 4, 5, 6, 7, 8, 9, 10\\} \\\\\n",
    "A & = \\{2, 4, 6, 8, 10\\}\n",
    "\\end{align*}\n",
    "$$\n",
    "\n",
    "<br>"
   ]
  },
  {
   "cell_type": "markdown",
   "id": "0391f308",
   "metadata": {},
   "source": [
    "<hr>\n",
    "<strong>T<small>EOREMA.</small></strong>\n",
    "Existe apenas um único conjunto vazio.\n",
    "\n",
    "<strong>Demonstração.</strong>\n",
    "Sejam $J$ e $K$ conjuntos vazios. Por \"convenção\", temos que $J \\subset K$ e $K \\subset J$. Logo, $J = K$.\n",
    "\n",
    "<hr>"
   ]
  },
  {
   "cell_type": "markdown",
   "id": "5e5bb45e",
   "metadata": {},
   "source": [
    "### Referências\n",
    "\n",
    "* https://www.youtube.com/watch?v=PfT8_2sKReo\n",
    "* https://www.youtube.com/watch?v=f0Wh-Ae9AxM\n",
    "\n",
    "&nbsp;"
   ]
  }
 ],
 "metadata": {
  "kernelspec": {
   "display_name": "python3-grafos",
   "language": "python",
   "name": "python3-grafos"
  },
  "language_info": {
   "codemirror_mode": {
    "name": "ipython",
    "version": 3
   },
   "file_extension": ".py",
   "mimetype": "text/x-python",
   "name": "python",
   "nbconvert_exporter": "python",
   "pygments_lexer": "ipython3",
   "version": "3.9.13"
  }
 },
 "nbformat": 4,
 "nbformat_minor": 5
}
