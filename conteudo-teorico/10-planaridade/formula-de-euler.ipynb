{
 "cells": [
  {
   "cell_type": "markdown",
   "metadata": {},
   "source": [
    "\n"
   ]
  },
  {
   "cell_type": "markdown",
   "metadata": {},
   "source": [
    "<strong>TEOREMA (Fórmula de Euler)</strong>. Se um grafo plano conexo $G$ possui $n$ vértices, $e$ arestas e $f$ faces, então\n",
    "\n",
    "$$\n",
    "n - e + f = 2\n",
    "$$\n",
    "\n",
    "<p align=\"right\"><sub>Fonte: https://www.youtube.com/watch?v=KugIBFi6E9s</sub></p>"
   ]
  },
  {
   "cell_type": "markdown",
   "metadata": {},
   "source": [
    "## Teorema de Euler para Poliedros\n",
    "\n",
    "<hr>\n",
    "\n",
    "__TEOREMA (de Euler para Poliedros).__ &nbsp;\n",
    "\n",
    "$$ V - A + F = 2 $$\n",
    "\n",
    "<hr>"
   ]
  },
  {
   "cell_type": "markdown",
   "metadata": {},
   "source": [
    "&nbsp;\n",
    "\n",
    "### Vídeos e Apoio\n",
    "\n",
    "| Thumb | Descrição | Tópicos Abordados |\n",
    "| :-: | --- | --- |\n",
    "| [![img](https://img.youtube.com/vi/7s1xQOes0D4/default.jpg)](https://www.youtube.com/watch?v=7s1xQOes0D4) | <sup>[Solução Matemática]</sup><br>[__Professor Elon Poliedros, Teorema de Euler__](https://www.youtube.com/watch?v=7s1xQOes0D4)<br><sub>(1:12:23, YouTube, Ago/2012)</sub> | "
   ]
  }
 ],
 "metadata": {
  "kernelspec": {
   "display_name": "python3-grafos",
   "language": "python",
   "name": "python3-grafos"
  },
  "language_info": {
   "name": "python",
   "version": "3.9.13"
  },
  "orig_nbformat": 4,
  "vscode": {
   "interpreter": {
    "hash": "9f7dbbe4e07c9ae3e2c2b938d72170f008c0d97211cd9ca382ca202f35b48522"
   }
  }
 },
 "nbformat": 4,
 "nbformat_minor": 2
}
