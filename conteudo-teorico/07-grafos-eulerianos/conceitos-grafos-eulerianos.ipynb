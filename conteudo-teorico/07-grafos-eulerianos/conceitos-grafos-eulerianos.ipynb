{
 "cells": [
  {
   "cell_type": "markdown",
   "metadata": {},
   "source": [
    "<h1 align=\"center\">Grafos Eulerianos - Conceitos</h1>\n",
    "\n",
    "<h4 align=\"center\">Prof. Eduardo Ono</h4>\n",
    "\n",
    "&nbsp;"
   ]
  },
  {
   "cell_type": "markdown",
   "metadata": {},
   "source": [
    "<hr>\n",
    "\n",
    "__DEFINIÇÃO.__ &nbsp;\n",
    "Um caminho (passeio) ou ciclo que contenha cada aresta do grafo, exatamente uma vez cada, é denominado __*euleriano*__.\n",
    "\n",
    "<hr>"
   ]
  },
  {
   "cell_type": "markdown",
   "metadata": {},
   "source": [
    "| __DEFINIÇÃO. (Grafo Euleriano)__ |\n",
    "| --- |\n",
    "| Um grafo $G$ é dito __*Euleriano*__ se possuir uma trilha fechada (circuito fechado) contendo todas as arestas de $G$."
   ]
  },
  {
   "cell_type": "code",
   "execution_count": null,
   "metadata": {},
   "outputs": [],
   "source": [
    "dfbfdbdf"
   ]
  }
 ],
 "metadata": {
  "kernelspec": {
   "display_name": "python3-grafos",
   "language": "python",
   "name": "python3-grafos"
  },
  "language_info": {
   "name": "python",
   "version": "3.9.13"
  },
  "orig_nbformat": 4
 },
 "nbformat": 4,
 "nbformat_minor": 2
}
