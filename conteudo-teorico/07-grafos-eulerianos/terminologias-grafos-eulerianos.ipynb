{
 "cells": [
  {
   "cell_type": "markdown",
   "metadata": {},
   "source": [
    "<h1 align=\"center\">Grafos Eulerianos - Terminologias</h1>\n",
    "\n",
    "<h4 align=\"center\">Prof. Eduardo Ono</h4>\n",
    "\n",
    "&nbsp;"
   ]
  },
  {
   "cell_type": "markdown",
   "metadata": {},
   "source": [
    "<hr>\n",
    "\n",
    "__DEFINIÇÃO.__ &nbsp;\n",
    "Um caminho (passeio) ou ciclo que contenha cada aresta do grafo, exatamente uma vez cada, é denominado __*euleriano*__.\n",
    "\n",
    "<hr>"
   ]
  },
  {
   "cell_type": "markdown",
   "metadata": {},
   "source": [
    "| __DEFINIÇÃO. (Grafo Euleriano)__ |\n",
    "| --- |\n",
    "| Um grafo $G$ é dito __*Euleriano*__ se possuir uma trilha fechada (circuito fechado) contendo todas as arestas de $G$."
   ]
  },
  {
   "cell_type": "markdown",
   "metadata": {},
   "source": [
    "Um circuito é uma trilha fechada."
   ]
  }
 ],
 "metadata": {
  "kernelspec": {
   "display_name": "python3-grafos",
   "language": "python",
   "name": "python3-grafos"
  },
  "language_info": {
   "codemirror_mode": {
    "name": "ipython",
    "version": 3
   },
   "file_extension": ".py",
   "mimetype": "text/x-python",
   "name": "python",
   "nbconvert_exporter": "python",
   "pygments_lexer": "ipython3",
   "version": "3.9.13"
  },
  "orig_nbformat": 4
 },
 "nbformat": 4,
 "nbformat_minor": 2
}
