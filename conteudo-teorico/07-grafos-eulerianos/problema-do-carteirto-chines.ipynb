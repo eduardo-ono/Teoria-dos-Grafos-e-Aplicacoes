{
 "cells": [
  {
   "cell_type": "markdown",
   "metadata": {},
   "source": [
    "<h1 align=\"center\">Problema do Carteiro Chinês</h1>\n",
    "\n",
    "<h4 align=\"center\">Prof. Eduardo Ono</h4>\n",
    "\n",
    "&nbsp;\n",
    "\n",
    "\n"
   ]
  },
  {
   "cell_type": "markdown",
   "metadata": {},
   "source": [
    "ENUNCIADO. &nbsp;\n",
    "Um carteiro tem que entregar as correspondências recebidas em um posto do correio e entregá-las em sua região de trabalho, antes de retornar ao posto. O problema é encontrar a menor distância percorrida para o carteiro.\n",
    "\n",
    "RESUMO. &nbsp;\n",
    "Encontrar a trilha fechada de peso total mínimo em um grafo ponderado."
   ]
  }
 ],
 "metadata": {
  "kernelspec": {
   "display_name": "python3-grafos",
   "language": "python",
   "name": "python3-grafos"
  },
  "language_info": {
   "name": "python",
   "version": "3.9.13"
  },
  "orig_nbformat": 4
 },
 "nbformat": 4,
 "nbformat_minor": 2
}
