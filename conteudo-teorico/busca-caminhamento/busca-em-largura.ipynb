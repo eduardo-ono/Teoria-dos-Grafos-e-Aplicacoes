{
 "cells": [
  {
   "cell_type": "markdown",
   "metadata": {},
   "source": [
    "# Capítulo 5\n",
    "\n",
    "# Busca e Caminhamento\n",
    "\n",
    "<br>"
   ]
  },
  {
   "cell_type": "markdown",
   "metadata": {},
   "source": [
    "<div style=\"border: 2px solid; padding: 10px\">\n",
    "\n",
    "<strong>DEFINIÇÃO (busca em largura).</strong> &nbsp;\n",
    "A __*busca em largura*__ (_BFS - Breadth First Search_) é uma estratégia de busca cega que prioriza os vértices mais próximos ao vértice origem, para depois explorar os vértices mais distantes.\n",
    "\n",
    "\n",
    "<sub>Fonte: https://www.youtube.com/watch?v=Kb4O6VmNjrE</sub>\n",
    "\n",
    "</div>"
   ]
  },
  {
   "cell_type": "markdown",
   "metadata": {},
   "source": [
    "## Algoritmo\n",
    "\n",
    "```\n",
    "função BFS(G, s)<br>\n",
    "    s.visitado = 1 \\\\\n",
    "    \\text{Cria fila vazia} fila = [] \\\\\n",
    "```"
   ]
  },
  {
   "cell_type": "markdown",
   "metadata": {},
   "source": [
    "### Vídeos de Apoio\n",
    "\n",
    "| Thumb | Descrição |\n",
    "| :-: | --- |\n",
    "| [![img](https://img.youtube.com/vi/lDvkB3s_Jnw/default.jpg)](https://www.youtube.com/watch?v=lDvkB3s_Jnw) | <sup>[Carla Quem Disse]</sup><br>[__Busca em largura__](https://www.youtube.com/watch?v=lDvkB3s_Jnw&list=PLncEdvQ20-mgGanwuFczm-4IwIdIcIiha&index=42)<br><sub>(14:48, YouTube, Abr/2020)</sub>\n"
   ]
  }
 ],
 "metadata": {
  "kernelspec": {
   "display_name": "Python 3.9.13 ('grafos')",
   "language": "python",
   "name": "python3"
  },
  "language_info": {
   "codemirror_mode": {
    "name": "ipython",
    "version": 3
   },
   "file_extension": ".py",
   "mimetype": "text/x-python",
   "name": "python",
   "nbconvert_exporter": "python",
   "pygments_lexer": "ipython3",
   "version": "3.9.13"
  },
  "orig_nbformat": 4,
  "vscode": {
   "interpreter": {
    "hash": "9f7dbbe4e07c9ae3e2c2b938d72170f008c0d97211cd9ca382ca202f35b48522"
   }
  }
 },
 "nbformat": 4,
 "nbformat_minor": 2
}
