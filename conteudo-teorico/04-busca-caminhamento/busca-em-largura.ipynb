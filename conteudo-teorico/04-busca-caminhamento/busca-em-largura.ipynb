{
 "cells": [
  {
   "cell_type": "markdown",
   "metadata": {},
   "source": [
    "> Teoria dos Grafos e Aplicações > Conteúdo Teórico > Busca e Caminhamento\n",
    "\n",
    "# Busca em Largura\n",
    "\n",
    "__Prof. Eduardo Ono__\n",
    "\n",
    "&nbsp;"
   ]
  },
  {
   "cell_type": "markdown",
   "metadata": {},
   "source": [
    "---\n",
    "\n",
    "<strong>DEFINIÇÃO (busca em largura).</strong> &nbsp;\n",
    "A __*busca em largura*__ (_BFS - Breadth First Search_) é uma estratégia de busca cega que prioriza os vértices mais próximos ao vértice origem, para depois explorar os vértices mais distantes. Utiliza uma _fila_ como estrutura auxiliar.\n",
    "\n",
    "\n",
    "<sub>Ref.: https://www.youtube.com/watch?v=Kb4O6VmNjrE</sub>\n",
    "\n",
    "---"
   ]
  },
  {
   "cell_type": "markdown",
   "metadata": {},
   "source": [
    "## Algoritmo\n",
    "\n",
    "$\\textbf{BFS}(G, s, visitados)$\n",
    "\n",
    "1. adiciona $s$ a $visitados$\n",
    "1. cria uma _fila_ vazia $F$\n",
    "1. $\\text{enfileira}(F, s)$\n",
    "1. __enquanto__ $\\text{tamanho}(F) > 0$ __faça__\n",
    "    1. $u = \\text{desenfileira}(F)$\n",
    "    1. __para__ todo vértice $v \\in \\text{vizinhos}(u)$ __faça__\n",
    "        1. __se__ $v \\notin visitados$ __então__\n",
    "            1. adiciona $v$ a $visitados$\n",
    "            1. $\\text{enfileira}(F, v)$"
   ]
  },
  {
   "cell_type": "code",
   "execution_count": 1,
   "metadata": {},
   "outputs": [],
   "source": [
    "import networkx as nx\n",
    "import matplotlib.pyplot as plt\n",
    "\n",
    "%matplotlib inline\n",
    "\n",
    "import networkx as nx\n",
    "import matplotlib.pyplot as plt\n",
    "\n",
    "\n",
    "nx_draw_opt = {\n",
    "        'node_size': 800,\n",
    "        'node_color': 'coral',\n",
    "        'font_size': 16,\n",
    "        'with_labels': True \n",
    "}"
   ]
  },
  {
   "cell_type": "code",
   "execution_count": 5,
   "metadata": {},
   "outputs": [],
   "source": [
    "def BFS(G, s, visitados):\n",
    "    visitados.append(s)\n",
    "    fila = [s]\n",
    "    while len(fila) > 0:\n",
    "        u = fila.pop(0)\n",
    "        for vizinho in G.neighbors(u):\n",
    "            if vizinho not in visitados:\n",
    "                visitados.append(vizinho)\n",
    "                fila.append(vizinho)"
   ]
  },
  {
   "cell_type": "markdown",
   "metadata": {},
   "source": [
    "### Exemplo\n",
    "\n",
    "* Ref.:\n",
    "\n",
    "| Thumb | Descrição |\n",
    "| :-: | --- |\n",
    "| [![img](https://img.youtube.com/vi/lDvkB3s_Jnw/default.jpg)](https://www.youtube.com/watch?v=lDvkB3s_Jnw) | <sup>[Carla Quem Disse]</sup><br>[__Busca em largura__](https://www.youtube.com/watch?v=lDvkB3s_Jnw&list=PLncEdvQ20-mgGanwuFczm-4IwIdIcIiha&index=42)<br><sub>(14:48, YouTube, Abr/2020)</sub>"
   ]
  },
  {
   "cell_type": "code",
   "execution_count": 3,
   "metadata": {},
   "outputs": [
    {
     "data": {
      "image/png": "[encoded data removed]",
      "text/plain": [
       "<Figure size 432x288 with 1 Axes>"
      ]
     },
     "metadata": {},
     "output_type": "display_data"
    }
   ],
   "source": [
    "E = [\n",
    "    (1, 2), (1, 3),\n",
    "    (2, 3), (2, 4), (2, 8), (2, 11),\n",
    "    (3, 4), (3, 5),\n",
    "    (4, 7), (4, 8), (4, 9),\n",
    "    (5, 6),\n",
    "    (7, 10), (7, 11),\n",
    "    (9, 11),\n",
    "    (10, 11)\n",
    "]\n",
    "G = nx.Graph()\n",
    "G.add_edges_from(E)\n",
    "nx.draw(G, **nx_draw_opt)"
   ]
  },
  {
   "cell_type": "code",
   "execution_count": 4,
   "metadata": {},
   "outputs": [
    {
     "name": "stdout",
     "output_type": "stream",
     "text": [
      "[7, 4, 10, 11, 2, 3, 8, 9, 1, 5, 6]\n"
     ]
    }
   ],
   "source": [
    "# Busca em largura\n",
    "visitados = []\n",
    "BFS(G, 7, visitados)\n",
    "print(visitados)"
   ]
  }
 ],
 "metadata": {
  "kernelspec": {
   "display_name": "python3-grafos",
   "language": "python",
   "name": "python3-grafos"
  },
  "language_info": {
   "codemirror_mode": {
    "name": "ipython",
    "version": 3
   },
   "file_extension": ".py",
   "mimetype": "text/x-python",
   "name": "python",
   "nbconvert_exporter": "python",
   "pygments_lexer": "ipython3",
   "version": "3.9.13"
  },
  "orig_nbformat": 4,
  "vscode": {
   "interpreter": {
    "hash": "6ca436f98112c699fca53176ca9b2af64a577e7d8248f3b63a91e306eedca64e"
   }
  }
 },
 "nbformat": 4,
 "nbformat_minor": 2
}
