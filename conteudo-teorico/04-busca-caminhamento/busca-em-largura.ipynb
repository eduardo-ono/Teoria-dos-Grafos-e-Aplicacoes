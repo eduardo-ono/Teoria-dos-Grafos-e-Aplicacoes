{
 "cells": [
  {
   "cell_type": "markdown",
   "metadata": {},
   "source": [
    "> Teoria dos Grafos e Aplicações > Conteúdo Teórico > Busca e Caminhamento\n",
    "\n",
    "# Busca em Largura\n",
    "\n",
    "# Busca e Caminhamento\n",
    "\n",
    "<br>"
   ]
  },
  {
   "cell_type": "markdown",
   "metadata": {},
   "source": [
    "<div style=\"border: 2px solid; padding: 10px\">\n",
    "\n",
    "<strong>DEFINIÇÃO (busca em largura).</strong> &nbsp;\n",
    "A __*busca em largura*__ (_BFS - Breadth First Search_) é uma estratégia de busca cega que prioriza os vértices mais próximos ao vértice origem, para depois explorar os vértices mais distantes.\n",
    "\n",
    "\n",
    "<sub>Fonte: https://www.youtube.com/watch?v=Kb4O6VmNjrE</sub>\n",
    "\n",
    "</div>"
   ]
  },
  {
   "cell_type": "markdown",
   "metadata": {},
   "source": [
    "## Algoritmo\n",
    "\n",
    "```python\n",
    "função BFS(G, s)<br>\n",
    "    s.visitado = 1 \\\\\n",
    "    \\text{Cria fila vazia} fila = [] \\\\\n",
    "```"
   ]
  },
  {
   "cell_type": "code",
   "execution_count": 7,
   "metadata": {},
   "outputs": [],
   "source": [
    "import networkx as nx\n",
    "import matplotlib.pyplot as plt\n",
    "\n",
    "%matplotlib inline\n",
    "\n",
    "import networkx as nx\n",
    "import matplotlib.pyplot as plt\n",
    "\n",
    "\n",
    "nx_draw_opt = {\n",
    "        'node_size': 800,\n",
    "        'node_color': 'coral',\n",
    "        'font_size': 16,\n",
    "        'with_labels': True \n",
    "}"
   ]
  },
  {
   "cell_type": "code",
   "execution_count": 42,
   "metadata": {},
   "outputs": [],
   "source": [
    "def BFS(G, s, visitado):\n",
    "    visitado.append(s)\n",
    "    fila = [s]\n",
    "    while len(fila) > 0:\n",
    "        u = fila.pop(0)\n",
    "        for vizinho in G.neighbors(u):\n",
    "            if vizinho not in visitado:\n",
    "                visitado.append(vizinho)\n",
    "                fila.append(vizinho)"
   ]
  },
  {
   "cell_type": "markdown",
   "metadata": {},
   "source": [
    "### Exemplo\n",
    "\n",
    "* Ref.:\n",
    "\n",
    "| Thumb | Descrição |\n",
    "| :-: | --- |\n",
    "| [![img](https://img.youtube.com/vi/lDvkB3s_Jnw/default.jpg)](https://www.youtube.com/watch?v=lDvkB3s_Jnw) | <sup>[Carla Quem Disse]</sup><br>[__Busca em largura__](https://www.youtube.com/watch?v=lDvkB3s_Jnw&list=PLncEdvQ20-mgGanwuFczm-4IwIdIcIiha&index=42)<br><sub>(14:48, YouTube, Abr/2020)</sub>"
   ]
  },
  {
   "cell_type": "code",
   "execution_count": 47,
   "metadata": {},
   "outputs": [
    {
     "data": {
      "image/png": "[encoded data removed]",
      "text/plain": [
       "<Figure size 432x288 with 1 Axes>"
      ]
     },
     "metadata": {},
     "output_type": "display_data"
    }
   ],
   "source": [
    "E = [\n",
    "    (1, 2), (1, 3),\n",
    "    (2, 3), (2, 4), (2, 8), (2, 11),\n",
    "    (3, 4), (3, 5),\n",
    "    (4, 7), (4, 8), (4, 9),\n",
    "    (5, 6),\n",
    "    (7, 10), (7, 11),\n",
    "    (9, 11),\n",
    "    (10, 11)\n",
    "]\n",
    "G = nx.Graph()\n",
    "G.add_edges_from(E)\n",
    "nx.draw(G, **nx_draw_opt)"
   ]
  },
  {
   "cell_type": "code",
   "execution_count": 48,
   "metadata": {},
   "outputs": [
    {
     "name": "stdout",
     "output_type": "stream",
     "text": [
      "[7, 4, 10, 11, 2, 3, 8, 9, 1, 5, 6]\n"
     ]
    }
   ],
   "source": [
    "# Busca em largura\n",
    "visitado = []\n",
    "BFS(G, 7, visitado)\n",
    "print(visitado)"
   ]
  }
 ],
 "metadata": {
  "kernelspec": {
   "display_name": "python3-grafos",
   "language": "python",
   "name": "python3-grafos"
  },
  "language_info": {
   "codemirror_mode": {
    "name": "ipython",
    "version": 3
   },
   "file_extension": ".py",
   "mimetype": "text/x-python",
   "name": "python",
   "nbconvert_exporter": "python",
   "pygments_lexer": "ipython3",
   "version": "3.9.13"
  },
  "orig_nbformat": 4,
  "vscode": {
   "interpreter": {
    "hash": "6ca436f98112c699fca53176ca9b2af64a577e7d8248f3b63a91e306eedca64e"
   }
  }
 },
 "nbformat": 4,
 "nbformat_minor": 2
}
