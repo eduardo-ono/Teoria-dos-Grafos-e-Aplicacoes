{
 "cells": [
  {
   "cell_type": "markdown",
   "metadata": {},
   "source": [
    "> Teoria dos Grafos e Aplicações > Conteúdo Teórico > Busca e Caminhamento\n",
    "\n",
    "# Busca em Profundidade (DFS)\n",
    "\n",
    "__Prof. Eduardo Ono__\n",
    "\n",
    "&nbsp;"
   ]
  },
  {
   "cell_type": "markdown",
   "metadata": {},
   "source": [
    "<hr>\n",
    "\n",
    "$\\qquad$ A __*Busca em Profundidade*__ visita todos os vértices de um grafo, usando como critério os vizinhos do vértice visitado mais recentemente. Utiliza uma _pilha_ como estrutura auxiliar.\n",
    "\n",
    "<hr>"
   ]
  },
  {
   "cell_type": "markdown",
   "metadata": {},
   "source": [
    "## Algoritmo\n",
    "\n",
    "$\\textbf{DFS}(G, s, visitados)$\n",
    "\n",
    "1. adiciona $s$ a $visitados$\n",
    "1. cria uma _pilha_ vazia $P$\n",
    "1. $\\text{empilha}(P, s)$\n",
    "1. __enquanto__ $\\text{tamanho}(P) > 0$ __faça__\n",
    "    1. $u = \\text{consulta}(P)$\n",
    "    1. __se__ existe $uv \\in E(G)$ onde vizinho não foi visitado __então__\n",
    "        1. $\\text{empilha}(P, v)$\n",
    "    1. __senão__\n",
    "        1. $u$ = desempilha($P$)"
   ]
  },
  {
   "cell_type": "markdown",
   "metadata": {},
   "source": [
    "## Exemplo\n",
    "\n",
    "* Referência\n",
    "\n",
    "| Thumb | Descrição |\n",
    "| :-: | --- |\n",
    "| [![img](https://img.youtube.com/vi/e7eSEbY5wSE/default.jpg)](https://www.youtube.com/watch?v=e7eSEbY5wSE&list=PLncEdvQ20-mgGanwuFczm-4IwIdIcIiha&index=43) | <sup>[Carla Quem Disse]</sup><br>[__Busca em profundidade__](https://www.youtube.com/watch?v=e7eSEbY5wSE&list=PLncEdvQ20-mgGanwuFczm-4IwIdIcIiha&index=43)<br><sub>(17:08, YouTube, Mai/2020)</sub>"
   ]
  },
  {
   "cell_type": "code",
   "execution_count": 1,
   "metadata": {},
   "outputs": [],
   "source": [
    "import networkx as nx\n",
    "import matplotlib.pyplot as plt\n",
    "\n",
    "%matplotlib inline\n",
    "\n",
    "import networkx as nx\n",
    "import matplotlib.pyplot as plt\n",
    "\n",
    "\n",
    "nx_draw_opt = {\n",
    "        'node_size': 800,\n",
    "        'node_color': 'coral',\n",
    "        'font_size': 16,\n",
    "        'with_labels': True \n",
    "}"
   ]
  },
  {
   "cell_type": "code",
   "execution_count": 21,
   "metadata": {},
   "outputs": [],
   "source": [
    "def DFS(G, vertice, visitados):\n",
    "    \"\"\"Algoritmo: Busca em Profundidade (recursivo)\"\"\"\n",
    "    if vertice not in visitados:\n",
    "        visitados.append(vertice)\n",
    "        for vizinho in G[vertice]:\n",
    "            DFS(G, vizinho, visitados)"
   ]
  },
  {
   "cell_type": "code",
   "execution_count": 18,
   "metadata": {},
   "outputs": [
    {
     "name": "stdout",
     "output_type": "stream",
     "text": [
      "Help on function DFS in module __main__:\n",
      "\n",
      "DFS(G, vertice, visitado)\n",
      "    Algoritmo: Busca em Profundidade\n",
      "\n"
     ]
    }
   ],
   "source": [
    "help(DFS)"
   ]
  },
  {
   "cell_type": "code",
   "execution_count": 3,
   "metadata": {},
   "outputs": [
    {
     "data": {
      "image/png": "[encoded data removed]",
      "text/plain": [
       "<Figure size 432x288 with 1 Axes>"
      ]
     },
     "metadata": {},
     "output_type": "display_data"
    }
   ],
   "source": [
    "E = [\n",
    "    (1, 2), (1, 3),\n",
    "    (2, 3), (2, 4), (2, 8), (2, 11),\n",
    "    (3, 4), (3, 5),\n",
    "    (4, 7), (4, 8), (4, 9),\n",
    "    (5, 6),\n",
    "    (7, 10), (7, 11),\n",
    "    (9, 11),\n",
    "    (10, 11)\n",
    "]\n",
    "G = nx.Graph()\n",
    "G.add_edges_from(E)\n",
    "nx.draw(G, **nx_draw_opt)"
   ]
  },
  {
   "cell_type": "code",
   "execution_count": 19,
   "metadata": {},
   "outputs": [
    {
     "name": "stdout",
     "output_type": "stream",
     "text": [
      "[7, 4, 2, 1, 3, 5, 6, 8, 11, 9, 10]\n"
     ]
    }
   ],
   "source": [
    "# Busca em profundidade\n",
    "visitados = []\n",
    "DFS(G, 7, visitados)\n",
    "print(visitados)"
   ]
  }
 ],
 "metadata": {
  "kernelspec": {
   "display_name": "python3-grafos",
   "language": "python",
   "name": "python3-grafos"
  },
  "language_info": {
   "codemirror_mode": {
    "name": "ipython",
    "version": 3
   },
   "file_extension": ".py",
   "mimetype": "text/x-python",
   "name": "python",
   "nbconvert_exporter": "python",
   "pygments_lexer": "ipython3",
   "version": "3.9.13"
  },
  "orig_nbformat": 4,
  "vscode": {
   "interpreter": {
    "hash": "6ca436f98112c699fca53176ca9b2af64a577e7d8248f3b63a91e306eedca64e"
   }
  }
 },
 "nbformat": 4,
 "nbformat_minor": 2
}
