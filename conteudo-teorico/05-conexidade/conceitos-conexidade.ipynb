{
 "cells": [
  {
   "cell_type": "markdown",
   "metadata": {},
   "source": [
    "<h1 align=\"center\">Conexidade - Conceitos</h1>\n",
    "\n",
    "<h4 align=\"center\">Prof. Eduardo Ono</h4>\n",
    "\n",
    "&nbsp;"
   ]
  },
  {
   "cell_type": "code",
   "execution_count": 2,
   "metadata": {
    "tags": [
     "hide_cell"
    ]
   },
   "outputs": [],
   "source": [
    "%matplotlib inline\n",
    "\n",
    "import networkx as nx\n",
    "import matplotlib.pyplot as plt\n",
    "\n",
    "nx_draw_opt = {\n",
    "        'node_size': 800,\n",
    "        'node_color': 'coral',\n",
    "        'font_size': 16,\n",
    "        'with_labels': True \n",
    "}"
   ]
  },
  {
   "cell_type": "markdown",
   "metadata": {},
   "source": [
    "<hr>\n",
    "\n",
    "__DEFINIÇÃO (percurso).__ &nbsp;\n",
    "Um __*percurso*__ (ou __*passeio*__) é uma sequência finita de vértices e arestas\n",
    "\n",
    "$$ v_0, e_1, v_1, e_2, v_2, e_3, \\ldots, v_{k-1}, e_k, v_k $$\n",
    "\n",
    "tais que $v_{i-1}$ e $v_i$ são os vértices terminais da aresta $e_i$, $1 \\le i \\le k$.\n",
    "\n",
    "<p align=\"right\"><sub>[GOLDBARG_2012p12], adaptado.</sub></p>\n",
    "\n",
    "<hr>\n",
    "\n",
    "Em um percurso pode haver repetição de vértices e arestas.\n",
    "\n",
    "Um __*percurso*__ (__*passeio*__) é dito __*fechado*__ se tivermos\n",
    "\n",
    "$$ v_0, e_1, v_1, e_2, v_2, e_3, \\ldots, v_{k-1}, e_k, v_k = v_0 .$$\n",
    "\n",
    "&nbsp;"
   ]
  },
  {
   "cell_type": "markdown",
   "metadata": {},
   "source": [
    "<hr>\n",
    "\n",
    "&nbsp;&nbsp;&nbsp;&nbsp;&nbsp;&nbsp;&nbsp;&nbsp; Um __*caminho*__ é uma sequência de arestas na qual todos os vértices visitados são distintos.\n",
    "\n",
    "&nbsp;\n",
    "\n",
    "__DEFINIÇÃO. (caminho)__ &nbsp;\n",
    "Seja $G(V, E)$ um grafo e $v_k \\in V$. Um __*caminho*__ de $v_i$ a $v_k$ em $G$ é uma sequência de arestas $(v_iv_{i+1}), \\ldots, (v_{k-1}v_k)$, denotado como caminho $v_i, v_{i+1}, \\ldots, v_{n-k}, v_k$ tal que $(v_j, v_{j+1}) \\in E(G)$, $1 \\le j < k$.\n",
    "\n",
    "Pela definição, não pode haver __caminho fechado__ pois em um caminho todos os vértices devem ser todos distintos. Porém, alguns autores consideram o vértice inicial e final como sendo um único vértice, validando o termo _caminho fechado_.\n",
    "\n",
    "<hr>\n",
    "\n",
    "&nbsp;"
   ]
  },
  {
   "cell_type": "markdown",
   "metadata": {},
   "source": [
    "<hr>\n",
    "\n",
    "__DEFINIÇÃO (trilha).__ &nbsp;\n",
    "Uma __*trilha*__ é um percurso de vértices e arestas\n",
    "\n",
    "$$ v_0, e_1, v_1, e_2, v_2, e_3, \\ldots, v_{k-1}, e_k, v_k $$\n",
    "\n",
    "onde as arestas são todas __distintas__.\n",
    "\n",
    "<hr>\n",
    "\n",
    "Em uma trilha pode haver repetição de vértices mas não de arestas.\n",
    "\n",
    "&nbsp;"
   ]
  },
  {
   "cell_type": "markdown",
   "metadata": {},
   "source": [
    "<br>\n",
    "\n",
    "__DEFINIÇÃO. (ciclo)__ &nbsp;\n",
    "Um __*ciclo*__ é um percurso fechado, ou seja, que inicia e termina em um mesmo vértice, onde cada aresta é vizitada uma única vez.\n",
    "\n",
    "<br>\n",
    "\n",
    "&nbsp;"
   ]
  },
  {
   "cell_type": "code",
   "execution_count": 7,
   "metadata": {},
   "outputs": [
    {
     "data": {
      "image/png": "[encoded data removed]",
      "text/plain": [
       "<Figure size 360x360 with 1 Axes>"
      ]
     },
     "metadata": {},
     "output_type": "display_data"
    }
   ],
   "source": [
    "G = nx.Graph()\n",
    "G.add_edge('A', 'B', color='k', weigth=1)\n",
    "G.add_edge('B', 'C', color='b', weigth=3)\n",
    "G.add_edge('B', 'D', color='b', weigth=3)\n",
    "G.add_edge('C', 'D', color='b', weigth=3)\n",
    "G.add_edge('D', 'E', color='k', weigth=1)\n",
    "colors = [G[u][v]['color'] for u, v in G.edges()]\n",
    "weigths = [G[u][v]['weigth'] for u, v in G.edges()]\n",
    "plt.figure(figsize=[5, 5])\n",
    "nx.draw(G, edge_color=colors, width=weigths, **nx_draw_opt)"
   ]
  },
  {
   "cell_type": "markdown",
   "metadata": {},
   "source": [
    "<hr>\n",
    "\n",
    "__DEFINIÇÃO.__ &nbsp;\n",
    "Um __*circuito*__ é um caminho fechado em um grafo _orientado_.\n",
    "\n",
    "<hr>\n",
    "\n",
    "&nbsp;"
   ]
  }
 ],
 "metadata": {
  "kernelspec": {
   "display_name": "Python 3.9.13 ('grafos')",
   "language": "python",
   "name": "python3"
  },
  "language_info": {
   "codemirror_mode": {
    "name": "ipython",
    "version": 3
   },
   "file_extension": ".py",
   "mimetype": "text/x-python",
   "name": "python",
   "nbconvert_exporter": "python",
   "pygments_lexer": "ipython3",
   "version": "3.9.13"
  },
  "orig_nbformat": 4,
  "vscode": {
   "interpreter": {
    "hash": "1c7fb69ec0120a7bfae17680f5348dc79368d3eaaea67ee440f5569267ea8c67"
   }
  }
 },
 "nbformat": 4,
 "nbformat_minor": 2
}
