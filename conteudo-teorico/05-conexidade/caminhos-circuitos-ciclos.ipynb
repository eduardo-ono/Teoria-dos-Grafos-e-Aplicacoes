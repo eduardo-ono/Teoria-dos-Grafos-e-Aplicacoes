{
 "cells": [
  {
   "cell_type": "markdown",
   "metadata": {},
   "source": [
    "\n",
    "<h1 align=\"center\">\n",
    "Caminhos, Circuitos e Ciclos\n",
    "</h1>\n",
    "\n",
    "<h4 align=\"center\">Prof. Eduardo Ono</h4>\n",
    "\n",
    "<br>"
   ]
  },
  {
   "cell_type": "markdown",
   "metadata": {},
   "source": [
    "<strong>D<small>EFINIÇÃO</small>. (Caminho)</strong> Seja $v_k \\isin V$ um vértice de $V$. Um __*caminho*__ de $v_1$ a $v_n$ é uma sequência de arestas $(v_1v_2), (v_2v_3), ..., (v_{n-1}v_n)$, denotado como caminho $v_1, v_2, v_3, ..., v_{n-1}, v_n$."
   ]
  },
  {
   "cell_type": "markdown",
   "metadata": {},
   "source": [
    "<strong>D<small>EFINIÇÃO</small>.</strong> Um __*subgrafo*__ é um subconjunto $G' = (V', E')$ tal que $V' \\subset V$ e $E' \\subset E$.\n"
   ]
  }
 ],
 "metadata": {
  "kernelspec": {
   "display_name": "python3-grafos",
   "language": "python",
   "name": "python3-grafos"
  },
  "language_info": {
   "codemirror_mode": {
    "name": "ipython",
    "version": 3
   },
   "file_extension": ".py",
   "mimetype": "text/x-python",
   "name": "python",
   "nbconvert_exporter": "python",
   "pygments_lexer": "ipython3",
   "version": "3.9.13"
  },
  "orig_nbformat": 4
 },
 "nbformat": 4,
 "nbformat_minor": 2
}
