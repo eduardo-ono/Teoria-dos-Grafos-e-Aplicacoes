{
 "cells": [
  {
   "cell_type": "markdown",
   "metadata": {},
   "source": [
    "<h1 align=\"center\">Grafos Eulerianos</h1>\n",
    "\n",
    "<h4 align=\"center\">Prof. Eduardo Ono</h4>"
   ]
  },
  {
   "cell_type": "markdown",
   "metadata": {},
   "source": [
    "__DEFINIÇÃO (trilha Euleriana).__ &nbsp;\n",
    "Uma __*trilha Euleriana*__ é um caminho que contém todas arestas sem repetição."
   ]
  },
  {
   "cell_type": "markdown",
   "metadata": {},
   "source": [
    "__DEFINIÇÃO (circuito Euleriano).__ &nbsp;\n",
    "Um __*circuito Euleriano*__ é uma trilha Euleriana fechada, ou seja, que começa e termina no mesmo vértice."
   ]
  },
  {
   "cell_type": "markdown",
   "metadata": {},
   "source": [
    "__DEFINIÇÃO (grafo Euleriano).__ &nbsp;\n",
    "Um grafo __conexo__ $G$ é dito __*Euleriano*__ quando possui um circuito Euleriano.\n",
    "\n",
    "se, e somente se, o grau de todo vértice de $G$ é par."
   ]
  }
 ],
 "metadata": {
  "kernelspec": {
   "display_name": "Python 3.9.13 ('grafos')",
   "language": "python",
   "name": "python3"
  },
  "language_info": {
   "name": "python",
   "version": "3.9.13"
  },
  "orig_nbformat": 4,
  "vscode": {
   "interpreter": {
    "hash": "9f7dbbe4e07c9ae3e2c2b938d72170f008c0d97211cd9ca382ca202f35b48522"
   }
  }
 },
 "nbformat": 4,
 "nbformat_minor": 2
}
