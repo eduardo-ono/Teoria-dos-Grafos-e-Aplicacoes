{
 "cells": [
  {
   "cell_type": "markdown",
   "metadata": {},
   "source": [
    "\n"
   ]
  },
  {
   "cell_type": "markdown",
   "metadata": {},
   "source": [
    "<strong>TEOREMA (Fórmula de Euler)</strong>. Se um grafo plano conexo $G$ possui $n$ vértices, $e$ arestas e $f$ faces, então\n",
    "\n",
    "$$\n",
    "n - e + f = 2\n",
    "$$\n",
    "\n",
    "<p align=\"right\"><sub>Fonte: https://www.youtube.com/watch?v=KugIBFi6E9s</sub></p>"
   ]
  }
 ],
 "metadata": {
  "kernelspec": {
   "display_name": "Python 3.9.13 ('grafos')",
   "language": "python",
   "name": "python3"
  },
  "language_info": {
   "name": "python",
   "version": "3.9.13"
  },
  "orig_nbformat": 4,
  "vscode": {
   "interpreter": {
    "hash": "9f7dbbe4e07c9ae3e2c2b938d72170f008c0d97211cd9ca382ca202f35b48522"
   }
  }
 },
 "nbformat": 4,
 "nbformat_minor": 2
}
