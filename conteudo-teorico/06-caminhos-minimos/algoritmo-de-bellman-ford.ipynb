{
 "cells": [
  {
   "cell_type": "markdown",
   "metadata": {},
   "source": [
    "\n",
    "<h1 align=\"center\">Algoritmo de Bellman-Ford</h1>\n",
    "\n",
    "<h4 align=\"center\">Prof. Eduardo Ono</h4>\n",
    "\n",
    "&nbsp;"
   ]
  },
  {
   "cell_type": "markdown",
   "metadata": {},
   "source": [
    "Bellman-Ford"
   ]
  },
  {
   "cell_type": "markdown",
   "metadata": {},
   "source": [
    "## Características\n",
    "\n",
    "* Aplicado à digrafos (grafos orientados) ponderados;\n",
    "* Os pesos dos arcos (arestas) podem ser negativos;\n",
    "* Não funcionam em grafos que possuem ciclo negativo (soma dos pesos negativa no ciclo);\n",
    "* Dado um vértice inicial $s$, determina o caminho mínimo de $s$ a todos os demais vértices do grafo;\n",
    "* Sendo $n$ igual ao número de vértices, o número de iterações será igual a $n - 1$."
   ]
  },
  {
   "cell_type": "markdown",
   "metadata": {},
   "source": [
    "## Exemplos"
   ]
  },
  {
   "cell_type": "code",
   "execution_count": 40,
   "metadata": {},
   "outputs": [
    {
     "name": "stdout",
     "output_type": "stream",
     "text": [
      "{'S': 0, 'A': 5, 'G': 8, 'E': 7, 'F': 9, 'B': 5, 'C': 6, 'D': 9}\n",
      "S: 0\n",
      "A: 5\n",
      "G: 8\n",
      "E: 7\n",
      "B: 5\n",
      "C: 6\n",
      "D: 9\n",
      "F: 9\n"
     ]
    },
    {
     "data": {
      "image/png": "[encoded data removed]",
      "text/plain": [
       "<Figure size 432x288 with 1 Axes>"
      ]
     },
     "metadata": {},
     "output_type": "display_data"
    }
   ],
   "source": [
    "import networkx as nx\n",
    "import matplotlib.pyplot as plt\n",
    "\n",
    "nx_draw_opt = {\n",
    "    'node_size': 800,\n",
    "    'node_color': 'orange',\n",
    "    'font_size': 16,\n",
    "    'with_labels': True,\n",
    "}\n",
    "\n",
    "E = [\n",
    "    ('S', 'A', 10), ('S', 'G', 8),\n",
    "    ('A', 'E', 2),\n",
    "    ('B', 'A', 1), ('B', 'C', 1),\n",
    "    ('C', 'D', 3),\n",
    "    ('D', 'E', -1),\n",
    "    ('E', 'B', -2),\n",
    "    ('F', 'A', -4), ('F', 'E', -1),\n",
    "    ('G', 'F', 1)\n",
    "]\n",
    "G = nx.DiGraph()\n",
    "G.add_weighted_edges_from(E)\n",
    "pos = nx.circular_layout(G)\n",
    "nx.draw(G, pos, arrowsize=18, **nx_draw_opt)\n",
    "edge_labels = nx.get_edge_attributes(G, \"weight\")\n",
    "nx.draw_networkx_edge_labels(G, pos, edge_labels, font_size=14)\n",
    "length, path = nx.single_source_bellman_ford(G, 'S')\n",
    "print(length)\n",
    "for v in G.nodes:\n",
    "    print(f'{v}: {length[v]}')"
   ]
  },
  {
   "cell_type": "code",
   "execution_count": 37,
   "metadata": {},
   "outputs": [
    {
     "name": "stdout",
     "output_type": "stream",
     "text": [
      "[('A', 'E'), ('B', 'A'), ('B', 'C'), ('C', 'D'), ('D', 'E'), ('E', 'B'), ('F', 'A'), ('F', 'E'), ('G', 'F'), ('S', 'A'), ('S', 'G')]\n"
     ]
    }
   ],
   "source": [
    "print(sorted(G.edges))"
   ]
  },
  {
   "cell_type": "markdown",
   "metadata": {},
   "source": [
    "| Vértice | Distâncias em cada iteração | | | | | | |\n",
    "| :-: | :-: | :-: | :-: | :-: | :-: | :-: | :-: |\n",
    "| S |     0    |     0    |     0    |  0 | 0 | 0 | 0\n",
    "| A | $\\infty$ |    10    |    10    |  5 | 5 | 5 |\n",
    "| B | $\\infty$ | $\\infty$ | $\\infty$ | 10 | 5 | 5 |\n",
    "| C | $\\infty$ | $\\infty$ | $\\infty$ | 11 | 6 | 6 |\n",
    "| D | $\\infty$ | $\\infty$ | $\\infty$ | 14 | 9 | 9 |\n",
    "| E | $\\infty$ | $\\infty$ |    12    |  8 | 7 | 7 |\n",
    "| F | $\\infty$ | $\\infty$ |     9    |  9 | 9 | 9 |\n",
    "| G | $\\infty$ |     8    |     8    |  8 | 8 | 8 |"
   ]
  },
  {
   "cell_type": "markdown",
   "metadata": {},
   "source": [
    "&nbsp;\n",
    "\n",
    "## Vídeos Recomendados\n",
    "\n",
    "| Thumb | Descrição |\n",
    "| :-: | --- |\n",
    "| [![img](https://img.youtube.com/vi/GhkoPskC3eY/default.jpg)](https://www.youtube.com/watch?v=GhkoPskC3eY) | <sup>[Aulas de Computação]</sup><br>[__Dijkstra - O homem que tornou a computação uma ciência - Biografia/história #1__](https://www.youtube.com/watch?v=GhkoPskC3eY)<br><sub>(17:09, YouTube, Ago/2021)</sub>\n",
    "| [![img](https://img.youtube.com/vi/k1kLCB7AZbM/default.jpg)](https://www.youtube.com/watch?v=k1kLCB7AZbM) | <sup>[Joe James]</sup><br>[__Dijkstras Algorithm Directed Graph Example__](https://www.youtube.com/watch?v=k1kLCB7AZbM)<br><sub>(7:13, YouTube, Jun/2015)</sub>\n",
    "\n"
   ]
  }
 ],
 "metadata": {
  "kernelspec": {
   "display_name": "python3-grafos",
   "language": "python",
   "name": "python3-grafos"
  },
  "language_info": {
   "codemirror_mode": {
    "name": "ipython",
    "version": 3
   },
   "file_extension": ".py",
   "mimetype": "text/x-python",
   "name": "python",
   "nbconvert_exporter": "python",
   "pygments_lexer": "ipython3",
   "version": "3.9.13"
  },
  "orig_nbformat": 4,
  "vscode": {
   "interpreter": {
    "hash": "9f7dbbe4e07c9ae3e2c2b938d72170f008c0d97211cd9ca382ca202f35b48522"
   }
  }
 },
 "nbformat": 4,
 "nbformat_minor": 2
}
