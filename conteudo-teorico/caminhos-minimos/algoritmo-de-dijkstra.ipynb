{
 "cells": [
  {
   "cell_type": "markdown",
   "metadata": {},
   "source": [
    "\n",
    "<h1 align=\"center\">Algoritmo de Dijkstra</h1>\n",
    "<h4 align=\"center\">Prof. Eduardo Ono</h4>\n",
    "<br>"
   ]
  },
  {
   "cell_type": "markdown",
   "metadata": {},
   "source": [
    "Edsger Dijkstra (1930 - 2002) foi um cientista da computação alemão. Em . Mais relevante, ele forneceu um algoritmo para encontrar o caminho de menor custo entre quaisquer dois vértices em um grafo podenderado. This algorithm can be, and sometimes is, generalized to find the minimum cost path between a source vertex and all other vertices in a graph. Esse algoritmo é conhecido como o algoritmo de Dijkstra.\n"
   ]
  },
  {
   "cell_type": "markdown",
   "metadata": {},
   "source": [
    "<br>\n",
    "\n",
    "## Vídeos Recomendados\n",
    "\n",
    "| Thumb | Descrição |\n",
    "| :-: | --- |\n",
    "| [![img](https://img.youtube.com/vi/GhkoPskC3eY/default.jpg)](https://www.youtube.com/watch?v=GhkoPskC3eY) | <sup>[Aulas de Computação]</sup><br>[__Dijkstra - O homem que tornou a computação uma ciência - Biografia/história #1__](https://www.youtube.com/watch?v=GhkoPskC3eY)<br><sub>(17:09, YouTube, Ago/2021)</sub>\n",
    "| [![img](https://img.youtube.com/vi/k1kLCB7AZbM/default.jpg)](https://www.youtube.com/watch?v=k1kLCB7AZbM) | <sup>[Joe James]</sup><br>[__Dijkstras Algorithm Directed Graph Example__](https://www.youtube.com/watch?v=k1kLCB7AZbM)<br><sub>(7:13, YouTube, Jun/2015)</sub>\n",
    "\n"
   ]
  }
 ],
 "metadata": {
  "kernelspec": {
   "display_name": "Python 3.9.13 ('grafos')",
   "language": "python",
   "name": "python3"
  },
  "language_info": {
   "name": "python",
   "version": "3.9.13"
  },
  "orig_nbformat": 4,
  "vscode": {
   "interpreter": {
    "hash": "9f7dbbe4e07c9ae3e2c2b938d72170f008c0d97211cd9ca382ca202f35b48522"
   }
  }
 },
 "nbformat": 4,
 "nbformat_minor": 2
}
