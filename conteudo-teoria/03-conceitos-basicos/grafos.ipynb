{
 "cells": [
  {
   "cell_type": "markdown",
   "metadata": {},
   "source": [
    "<table>\n",
    "<tr>\n",
    "<td align=\"left\" width=\"8000\">\n",
    "    <small>Desenvolvimento Web (Front-End) > Conteúdo</small>\n",
    "</td>\n",
    "<td align=\"right\">\n",
    "    <small>Atualizado&nbsp;em:&nbsp;23/04/2022</small>\n",
    "</td>\n",
    "</tr>\n",
    "</table>\n"
   ]
  },
  {
   "cell_type": "markdown",
   "metadata": {},
   "source": [
    "$\\def\\capitulo{1}$\n",
    "\n",
    "<div align=\"center\">\n",
    "\n",
    "# Conceitos Básicos\n",
    "\n",
    "#### Prof. Eduardo Ono\n",
    "\n",
    "</div>\n",
    "\n",
    "&nbsp;"
   ]
  },
  {
   "cell_type": "markdown",
   "metadata": {},
   "source": [
    "## Grafos"
   ]
  },
  {
   "cell_type": "markdown",
   "metadata": {},
   "source": [
    "\n",
    "---\n",
    "\n",
    "__DEFINIÇÃO (_grafo_).__&nbsp; Um __*grafo*__ $G$ pode ser definido como um par de conjuntos finitos $(V,E)$ e denotado por $G = (V,E)$, onde $V$ é um conjunto não vazio de __*vértices*__ (ou __*nós*__) e $E$ um conjunto de __*arestas*__, que pode ou não ser vazio, sendo cada aresta um conjunto de dois vértices a partir de $V$.\n",
    "\n",
    "---\n",
    "\n",
    "&nbsp;\n",
    "\n",
    "$\\qquad$ Um grafo $G$ pode ser também denotado por $G = (V(G),E(G))$, onde $V = V(G)$ é o conjunto de vértices (ou nós) e $E = E(G)$ o conjunto de arestas (_edges_ em inglês).\n",
    "\n",
    "Seja $G = (V,E)$ onde $V = \\{1,2,3,4,5\\}$ e $E = \\{\\{1,2\\}, \\{1,3\\}, \\{1,5\\}, \\{2,3\\}, \\{3,4\\}, \\{4,5\\}\\}$. Podemos denotar $E$ como $E = \\{(1,2), (1,3), (1,5), (2,3), (3,4), (4,5)\\}$.\n",
    "\n",
    "\n",
    "\n",
    "O conjunto de arestas pode ser representado por $E = \\{e_1, e_2, ..., e_m\\}$. Cada aresta $e_i \\in E(G)$ também pode ser representado como um par não ordenado $(v_i, v_j)$, $1 \\le i \\le n$ e $i \\le j \\le n$.\n",
    "\n",
    "Dada uma aresta $(v_i, v_j) \\in E(G)$, o vértice $v_i$ é dito __extremidade inicial__ e $v_j$ é dito __extremidade final__."
   ]
  },
  {
   "cell_type": "markdown",
   "metadata": {},
   "source": [
    "### Exemplo\n",
    "\n",
    "O grafo $G = (V,E)$ tendo como conjunto de vértices $V = \\{A,B,C,D,E\\}$ e aretas $E = \\{AB,BC,CD,DE,EA\\}$ possui a seguinte representação gráfica:"
   ]
  },
  {
   "cell_type": "code",
   "execution_count": 3,
   "metadata": {},
   "outputs": [
    {
     "data": {
      "image/png": "[encoded data removed]",
      "text/plain": [
       "<Figure size 288x216 with 1 Axes>"
      ]
     },
     "metadata": {},
     "output_type": "display_data"
    }
   ],
   "source": [
    "\n",
    "import networkx as nx\n",
    "import matplotlib.pyplot as plt\n",
    "\n",
    "def nx_draw_options(node_size=600, node_color='coral', font_size=8, with_labels=True):\n",
    "    return {\n",
    "        'node_size': node_size,\n",
    "        'node_color': node_color,\n",
    "        'font_size': font_size,\n",
    "        'with_labels': with_labels \n",
    "    }\n",
    "\n",
    "options = {\n",
    "    'node_size': 600,\n",
    "    'node_color': 'coral',\n",
    "    'font_size': 14,\n",
    "    'with_labels': True\n",
    "}\n",
    "\n",
    "E = [('A','B'), ('B','C'), ('C','D'), ('D','E'), ('E','A')]\n",
    "G = nx.Graph()\n",
    "G.add_edges_from(E)\n",
    "plt.figure(figsize=[4,3])\n",
    "nx.draw_circular(G, **options)"
   ]
  },
  {
   "cell_type": "markdown",
   "metadata": {},
   "source": [
    "## Terminologias\n",
    "\n",
    "Duas arestas são __*adjacentes*__ quando compartilham um mesmo vértice."
   ]
  },
  {
   "cell_type": "markdown",
   "metadata": {},
   "source": [
    "<div style=\"padding: 10px; border: 2px solid\">\n",
    "\n",
    "<strong>D<small>EFINIÇÃO</small> (subgrafo).</strong>&nbsp;\n",
    "Um __*subgrafo*__ de um grafo $G = (V,E)$ é um subconjunto $G' = (V',E')$ tal que $V' \\subseteq V$ e $E' \\subseteq E$.\n",
    "</div>"
   ]
  },
  {
   "cell_type": "markdown",
   "metadata": {},
   "source": [
    "\n",
    "> Por definição, o próprio grafo $G$ é subgrafo dele próprio."
   ]
  },
  {
   "cell_type": "markdown",
   "metadata": {},
   "source": [
    "> O __*grau de um vértice*__ $v \\in V(G)$, denotado por $d_v$ ou $\\deg v$, é o número de arestas que incidem sobre $v$: $$ d(v)=\\sum_{j \\in V} {w_{ij}} $$"
   ]
  },
  {
   "cell_type": "markdown",
   "metadata": {},
   "source": [
    "<div style=\"padding: 10px; border: 1px solid\">\n",
    "\n",
    "<strong>D<small>EFINIÇÃO</small> (digrafo).</strong> &nbsp;\n",
    "Um __*grafo orientado*__, __*grafo dirigido*__ ou __*digrafo*__ é um grafo que possui um conjunto finito de arestas orientadas ou direcionadas."
   ]
  },
  {
   "cell_type": "markdown",
   "metadata": {},
   "source": [
    "### Exemplo"
   ]
  },
  {
   "cell_type": "code",
   "execution_count": 35,
   "metadata": {},
   "outputs": [
    {
     "data": {
      "image/png": "[encoded data removed]",
      "text/plain": [
       "<Figure size 288x216 with 1 Axes>"
      ]
     },
     "metadata": {},
     "output_type": "display_data"
    }
   ],
   "source": [
    "E = [('A','B'), ('A','C'), ('B','C')]\n",
    "G = nx.DiGraph(E)\n",
    "plt.figure(figsize=[4,3])\n",
    "nx.draw(G, arrowsize=18, **options)"
   ]
  },
  {
   "cell_type": "markdown",
   "metadata": {},
   "source": [
    "---\n",
    "\n",
    "__TEOREMA (do Aperto de Mãos, Euler).__ &nbsp;\n",
    "A soma dos graus dos vértices de um grafo $G$ é igual ao dobro do número de arestas de $G$, ou seja:\n",
    "\n",
    "$$\n",
    "\\sum_{i=1}^{n}{d(v_i)} = 2 \\cdot |E| = 2\\,m\n",
    "$$\n",
    "\n",
    "_Demonstração._ \n",
    "\n",
    "<p align=\"right\">Fonte: https://www.youtube.com/watch?v=BTdB-l_B6bY</p>\n",
    "\n",
    "---"
   ]
  },
  {
   "cell_type": "markdown",
   "metadata": {},
   "source": [
    "__DEFINIÇÃO (multigrafo).__ &nbsp;\n",
    "Um __*multigrafo*__ é um grafo não orientado que possui no mínimo duas arestas paralelas."
   ]
  },
  {
   "cell_type": "markdown",
   "metadata": {},
   "source": [
    "Exemplo:"
   ]
  },
  {
   "cell_type": "code",
   "execution_count": 54,
   "metadata": {},
   "outputs": [
    {
     "data": {
      "image/png": "[encoded data removed]",
      "text/plain": [
       "<Figure size 288x216 with 1 Axes>"
      ]
     },
     "metadata": {},
     "output_type": "display_data"
    }
   ],
   "source": [
    "G = nx.MultiDiGraph()\n",
    "G.add_edges_from([\n",
    "    ('A','B'),\n",
    "    ('A','C'),\n",
    "    ('B','C'),\n",
    "    ('C','B'),\n",
    "    ('C','A')\n",
    "])\n",
    "plt.figure(figsize=[4,3])\n",
    "nx.draw(G, arrowstyle='-', connectionstyle='arc3, rad=0.1', **options)"
   ]
  },
  {
   "cell_type": "code",
   "execution_count": 60,
   "metadata": {},
   "outputs": [
    {
     "data": {
      "image/png": "[encoded data removed]",
      "text/plain": [
       "<Figure size 432x288 with 1 Axes>"
      ]
     },
     "metadata": {},
     "output_type": "display_data"
    }
   ],
   "source": [
    "G = nx.MultiGraph ([(1,2),(1,2),(1,2),(3,1),(3,2)])\n",
    "pos = nx.random_layout(G)\n",
    "nx.draw_networkx_nodes(G, pos, node_color = 'coral', node_size = 600, alpha = 1)\n",
    "ax = plt.gca()\n",
    "for e in G.edges:\n",
    "    ax.annotate(\"\",\n",
    "        xy = pos[e[0]], xycoords='data',\n",
    "        xytext = pos[e[1]], textcoords='data',\n",
    "        arrowprops = dict(arrowstyle=\"-\", color=\"0.5\",\n",
    "            shrinkA=5, shrinkB=5, patchA=None, patchB=None,\n",
    "            connectionstyle=\"arc3,rad=rrr\".replace('rrr', str(0.3 * e[2])),\n",
    "        ),\n",
    "    )\n",
    "plt.axis('off')\n",
    "plt.show()"
   ]
  },
  {
   "cell_type": "markdown",
   "metadata": {},
   "source": [
    "Um __*grafo simples*__ é um grafo que não contém arestas paralelas e laços."
   ]
  },
  {
   "cell_type": "markdown",
   "metadata": {},
   "source": [
    "Um grafo de $n$ vértices é dito __*completo*__ e denotado por $K_n$ quando há apenas uma única aresta unindo cada par de vértices."
   ]
  },
  {
   "cell_type": "markdown",
   "metadata": {},
   "source": [
    "* Exemplos"
   ]
  },
  {
   "cell_type": "code",
   "execution_count": 11,
   "metadata": {},
   "outputs": [
    {
     "name": "stdout",
     "output_type": "stream",
     "text": [
      "[0]\n",
      "[]\n",
      "0\n"
     ]
    },
    {
     "data": {
      "image/png": "[encoded data removed]",
      "text/plain": [
       "<Figure size 432x288 with 1 Axes>"
      ]
     },
     "metadata": {},
     "output_type": "display_data"
    }
   ],
   "source": [
    "K1 = nx.complete_graph(1)\n",
    "print(K1.nodes())\n",
    "print(K1.edges())\n",
    "print(K1.size())\n",
    "nx.draw(K1, **nx_draw_options())\n",
    "K2 = nx.complete_graph(2)\n",
    "nx.draw(K2, **nx_draw_options())"
   ]
  }
 ],
 "metadata": {
  "kernelspec": {
   "display_name": "Python 3.9.13 ('grafos')",
   "language": "python",
   "name": "python3"
  },
  "language_info": {
   "codemirror_mode": {
    "name": "ipython",
    "version": 3
   },
   "file_extension": ".py",
   "mimetype": "text/x-python",
   "name": "python",
   "nbconvert_exporter": "python",
   "pygments_lexer": "ipython3",
   "version": "3.9.13"
  },
  "orig_nbformat": 4,
  "vscode": {
   "interpreter": {
    "hash": "1c7fb69ec0120a7bfae17680f5348dc79368d3eaaea67ee440f5569267ea8c67"
   }
  }
 },
 "nbformat": 4,
 "nbformat_minor": 2
}
