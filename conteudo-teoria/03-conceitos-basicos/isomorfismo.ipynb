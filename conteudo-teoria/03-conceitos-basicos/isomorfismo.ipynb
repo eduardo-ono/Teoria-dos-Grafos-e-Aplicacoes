{
 "cells": [
  {
   "cell_type": "markdown",
   "metadata": {},
   "source": [
    "\n",
    "<h1 align=\"center\">\n",
    "Isomorfismo em Grafos\n",
    "</h1>\n",
    "\n",
    "<h4 align=\"center\">Prof. Eduardo Ono</h4>\n",
    "\n",
    "<br>"
   ]
  },
  {
   "cell_type": "markdown",
   "metadata": {},
   "source": [
    "<strong>D<small>EFINIÇÃO</small>.</strong> Dois grafos $G$ e $H$ são ditos __*isomorfos*__ se existir uma correspondência biunívoca (um-para-um) entre seus vértices e entre suas arestas, de maneira que sua relações de incidência são preservadas."
   ]
  },
  {
   "cell_type": "markdown",
   "metadata": {},
   "source": [
    "<strong>D<small>EFINIÇÃO</small>.</strong> Um __*subgrafo*__ é um subconjunto $G' = (V', E')$ tal que $V' \\subset V$ e $E' \\subset E$.\n"
   ]
  },
  {
   "cell_type": "markdown",
   "metadata": {},
   "source": [
    "Condições necessárias para isomorfismo entre dois grafos $G$ e $H$:\n",
    "\n",
    "* $G$ e $H$ devem ter o mesmo número de vértices, ou seja, $|G| = |H|$\n",
    "$$\n",
    "d(i)=\\sum_{j \\isin V} {w_{ij}}\n",
    "$$"
   ]
  },
  {
   "cell_type": "markdown",
   "metadata": {},
   "source": [
    "<strong>D<small>EFINIÇÃO</small>.</strong> Um __*grafo orientado*__ ou __*digrafo*__ é um consiste em um conjunto finito "
   ]
  }
 ],
 "metadata": {
  "kernelspec": {
   "display_name": "Python3-grafos",
   "language": "python",
   "name": "python3-grafos"
  },
  "language_info": {
   "codemirror_mode": {
    "name": "ipython",
    "version": 3
   },
   "file_extension": ".py",
   "mimetype": "text/x-python",
   "name": "python",
   "nbconvert_exporter": "python",
   "pygments_lexer": "ipython3",
   "version": "3.9.13"
  },
  "orig_nbformat": 4
 },
 "nbformat": 4,
 "nbformat_minor": 2
}
