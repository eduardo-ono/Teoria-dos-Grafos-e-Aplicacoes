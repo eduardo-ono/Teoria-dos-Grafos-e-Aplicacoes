{
 "cells": [
  {
   "cell_type": "code",
   "execution_count": null,
   "metadata": {},
   "outputs": [],
   "source": []
  },
  {
   "cell_type": "markdown",
   "metadata": {},
   "source": [
    "\n",
    "---\n",
    "\n",
    "__DEFINIÇÃO (rede).__ &nbsp;\n",
    "Uma __*rede*__ é um __multidigrafo__ $D = (V,E)$ onde cada aresta $e \\in E$ possui uma capacidade real $c(e) > 0$.\n",
    "\n",
    "---"
   ]
  },
  {
   "cell_type": "code",
   "execution_count": null,
   "metadata": {},
   "outputs": [],
   "source": []
  },
  {
   "cell_type": "markdown",
   "metadata": {},
   "source": [
    "$\\quad$ Supondo que em uma rede $D$ haja dois vértices especiais $s$ (origem) e $t$ (destino) tais que, $s$ seja uma fonte que alcança todos os demais vértices, e $t$ seja um sumidouro alcançado por todos os demais."
   ]
  },
  {
   "cell_type": "markdown",
   "metadata": {},
   "source": [
    "---\n",
    "\n",
    "__DEFINIÇÃO (fluxo).__\n",
    "\n",
    "Um __*fluxo*__ em uma rede $D = (V,E)$ é uma função $f: E \\to \\R_+$ tal que:\n",
    "\n",
    "(1) $f(e) \\le c(e)$ para toda aresta $e \\in E$;\n",
    "\n",
    "(2) $\\sum_x f(x,v) = \\sum_z f(v,z)$, para todo $v \\in V \\backslash \\{s,t\\}$.\n",
    "\n",
    "---"
   ]
  },
  {
   "cell_type": "markdown",
   "metadata": {},
   "source": [
    "### Vídeos de Apoio\n",
    "\n",
    "* [Algoritmos em Grafos] [__Fluxos em grafos__](https://www.youtube.com/watch?v=9oFP1CXy6yA) (59:43, YouTube, Abr/2021)\n",
    "\n",
    "<div class=\"alert alert-block alert-info\">\n",
    "<b>Tip:</b> Use blue boxes (alert-info) for tips and notes. \n",
    "If it’s a note, you don’t have to include the word “Note”.\n",
    "</div>\n"
   ]
  }
 ],
 "metadata": {
  "kernelspec": {
   "display_name": "Python 3.9.13 ('grafos')",
   "language": "python",
   "name": "python3"
  },
  "language_info": {
   "name": "python",
   "version": "3.9.13"
  },
  "orig_nbformat": 4,
  "vscode": {
   "interpreter": {
    "hash": "9f7dbbe4e07c9ae3e2c2b938d72170f008c0d97211cd9ca382ca202f35b48522"
   }
  }
 },
 "nbformat": 4,
 "nbformat_minor": 2
}
