{
 "cells": [
  {
   "cell_type": "markdown",
   "metadata": {},
   "source": [
    "---\n",
    "\n",
    "<div style=\"padding: 10px; border-top: 1px solid; border-bottom: 1px solid\">\n",
    "\n",
    "__DEFINIÇÃO (percurso).__ &nbsp;\n",
    "Um __*percurso*__ (ou __*passeio*__) é uma sequência finita de vértices e arestas\n",
    "\n",
    "$$ v_0, e_1, v_1, e_2, v_2, e_3, \\ldots, v_{k-1}, e_k, v_k $$\n",
    "\n",
    "tais que $v_{i-1}$ e $v_i$ são os vértices terminais da aresta $e_i$, $1 \\le i \\le k$.\n",
    "\n",
    "<p align=\"right\">[GOLDBARG_2012p12], adaptado.</p>\n",
    "\n",
    "</div>\n",
    "\n",
    "---\n",
    "\n",
    "Em um percurso pode haver repetição de vértices e arestas.\n",
    "\n",
    "Um __*percurso*__ (ou __*passeio*__) é dito __*fechado*__ se na sequência\n",
    "\n",
    "$$ v_0, e_1, v_1, e_2, v_2, e_3, \\ldots, v_{k-1}, e_k, v_k $$\n",
    "\n",
    "tivermos $v_0 = v_k$."
   ]
  },
  {
   "cell_type": "markdown",
   "metadata": {},
   "source": [
    "<div style=\"border: 2px solid; padding: 10px\">\n",
    "\n",
    "<strong>D<small>EFINIÇÃO</small>.</strong>\n",
    "Uma __*caminho*__ é um percurso de vértices e arestas\n",
    "\n",
    "$$ v_0, e_1, v_1, e_2, v_2, e_3, \\ldots, v_{k-1}, e_k, v_k $$\n",
    "\n",
    "onde os vértices são todos __distintos__.\n",
    "\n",
    "</div>\n",
    "\n",
    "Como não pode haver repetição de vértices em um caminho, não há repetição de arestas.\n",
    "\n",
    "Não pode haver __caminho fechado__ pois em um caminho todos os vértices devem ser todos distintos."
   ]
  },
  {
   "cell_type": "markdown",
   "metadata": {},
   "source": [
    "<div style=\"border: 2px solid; padding: 10px\">\n",
    "\n",
    "__DEFINIÇÃO (trilha).__ &nbsp;\n",
    "Uma __*trilha*__ é um percurso de vértices e arestas\n",
    "\n",
    "$$ v_0, e_1, v_1, e_2, v_2, e_3, \\ldots, v_{k-1}, e_k, v_k $$\n",
    "\n",
    "onde as arestas são todas __distintas__.\n",
    "\n",
    "</div>\n",
    "\n",
    "Em uma trilha pode haver repetição de vértices mas não de arestas."
   ]
  }
 ],
 "metadata": {
  "kernelspec": {
   "display_name": "Python 3.9.13 ('grafos')",
   "language": "python",
   "name": "python3"
  },
  "language_info": {
   "name": "python",
   "version": "3.9.13"
  },
  "orig_nbformat": 4,
  "vscode": {
   "interpreter": {
    "hash": "9f7dbbe4e07c9ae3e2c2b938d72170f008c0d97211cd9ca382ca202f35b48522"
   }
  }
 },
 "nbformat": 4,
 "nbformat_minor": 2
}
