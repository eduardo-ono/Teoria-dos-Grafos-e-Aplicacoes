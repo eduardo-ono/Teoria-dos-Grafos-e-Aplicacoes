{
 "cells": [
  {
   "cell_type": "markdown",
   "metadata": {},
   "source": [
    "Uma das formas de se armazenar a concetividade de um grafos."
   ]
  },
  {
   "cell_type": "markdown",
   "metadata": {},
   "source": [
    "Algoritmo:\n",
    "\n",
    "* Checar se dois vértices estão diretamente conectados: $O(1)$\n",
    "* Criar uma matriz (matriz de adjacência) $n \\times n$\n",
    "    * $v_{ij} = 1$ se existir uma aresta de $v_i$ a $v_j$\n",
    "    * $v_{ij} = 0$ caso contrário "
   ]
  }
 ],
 "metadata": {
  "kernelspec": {
   "display_name": "Python 3.9.13 ('grafos')",
   "language": "python",
   "name": "python3"
  },
  "language_info": {
   "name": "python",
   "version": "3.9.13"
  },
  "orig_nbformat": 4,
  "vscode": {
   "interpreter": {
    "hash": "9f7dbbe4e07c9ae3e2c2b938d72170f008c0d97211cd9ca382ca202f35b48522"
   }
  }
 },
 "nbformat": 4,
 "nbformat_minor": 2
}
