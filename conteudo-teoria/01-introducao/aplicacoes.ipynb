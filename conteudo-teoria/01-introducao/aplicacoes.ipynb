{
 "cells": [
  {
   "cell_type": "markdown",
   "metadata": {},
   "source": [
    "<h1 align=\"center\">Aplicações</h1>\n",
    "\n",
    "<h4 align=\"center\">Prof. Eduardo Ono</h4>\n",
    "\n",
    "<br>"
   ]
  },
  {
   "cell_type": "markdown",
   "metadata": {},
   "source": [
    "## Redes Complexas\n",
    "\n",
    "### Vídeos de Apoio\n",
    "\n",
    "| Thumb | Descrição |\n",
    "| :-: | --- |\n",
    "| [![img](https://img.youtube.com/vi/Na8AipQ6Q_w/default.jpg)](https://www.youtube.com/watch?v=Na8AipQ6Q_w) | <sup>[Ciência de Dados e afins]</sup><br>[__Introdução a Redes Complexas - Ciência de Dados 2 #1c__](https://www.youtube.com/watch?v=Na8AipQ6Q_w)<br><sub>(22:38, YouTube, Fev/2021)</sub>\n"
   ]
  },
  {
   "cell_type": "code",
   "execution_count": null,
   "metadata": {},
   "outputs": [],
   "source": []
  },
  {
   "cell_type": "markdown",
   "metadata": {},
   "source": [
    "## Análise de Redes Sociais\n",
    "\n",
    "### Vídeos de Apoio\n",
    "\n",
    "| Thumb | Descrição |\n",
    "| :-: | --- |\n",
    "| [![img](https://img.youtube.com/vi/Nkvx1x_Ao8c/default.jpg)](https://www.youtube.com/watch?v=Nkvx1x_Ao8c) | <sup>[Núcleo de Estudos Organizacionais UFSCar]</sup><br>[__Seminário Análise de Redes Sociais: Conceitos e Aplicações__](https://www.youtube.com/watch?v=Nkvx1x_Ao8c)<br><sub>(2:11:13, YouTube, Nov/2020)</sub>\n",
    "| [![img](https://img.youtube.com/vi/yx-JSDGG8g0/default.jpg)](https://www.youtube.com/watch?v=yx-JSDGG8g0) | <sup>[PPGDC-Rede]</sup><br>[__Análise de redes sociais: uma abordagem prática__](https://www.youtube.com/watch?v=yx-JSDGG8g0)<br><sub>(44:55, YouTube, Out/2020)</sub>\n"
   ]
  }
 ],
 "metadata": {
  "kernelspec": {
   "display_name": "Python 3.9.13 ('grafos')",
   "language": "python",
   "name": "python3"
  },
  "language_info": {
   "name": "python",
   "version": "3.9.13"
  },
  "orig_nbformat": 4,
  "vscode": {
   "interpreter": {
    "hash": "9f7dbbe4e07c9ae3e2c2b938d72170f008c0d97211cd9ca382ca202f35b48522"
   }
  }
 },
 "nbformat": 4,
 "nbformat_minor": 2
}
