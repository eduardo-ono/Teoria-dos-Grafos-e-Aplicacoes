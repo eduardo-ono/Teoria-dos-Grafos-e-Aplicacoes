{
 "cells": [
  {
   "cell_type": "markdown",
   "metadata": {},
   "source": [
    "\n",
    "<h1 align=\"center\">Lista - Conexidade e Conectividade</h1>\n",
    "\n",
    "<h4 align=\"center\">Prof. Eduardo Ono</h4>\n",
    "\n",
    "&nbsp;"
   ]
  },
  {
   "cell_type": "markdown",
   "metadata": {},
   "source": [
    "__EXERCÍCIO 1.__ (GIBBONS_1985p64) &nbsp;\n",
    "Se $G$ é um grafo simples, então\n",
    "\n",
    "$$ K_v(G) \\le \\frac{2 \\cdot |E|}{n} .$$\n",
    "\n",
    "&nbsp;"
   ]
  },
  {
   "cell_type": "markdown",
   "metadata": {},
   "source": [
    "__EXERCÍCIO 2.__ &nbsp;\n",
    "Mostre que se um grafo simples possui mais do que $\\frac{1}{2}(n-1)(n-2)$ arestas, então $G$ é conexo.\n",
    "\n",
    "Em linguagem mais formal:\n",
    "\n",
    "Se $G$ é um grafo simples e $|G| > \\frac{1}{2}(n-1)(n-2)$, então $G$ é conexo.\n",
    "\n",
    "<!-- [GIBBONS_1985p33] -->\n",
    "\n",
    "&nbsp;\n"
   ]
  },
  {
   "cell_type": "markdown",
   "metadata": {},
   "source": []
  },
  {
   "cell_type": "markdown",
   "metadata": {},
   "source": []
  },
  {
   "cell_type": "markdown",
   "metadata": {},
   "source": []
  }
 ],
 "metadata": {
  "kernelspec": {
   "display_name": "Python 3.9.13 ('base')",
   "language": "python",
   "name": "python3"
  },
  "language_info": {
   "name": "python",
   "version": "3.9.13"
  },
  "orig_nbformat": 4,
  "vscode": {
   "interpreter": {
    "hash": "6ca436f98112c699fca53176ca9b2af64a577e7d8248f3b63a91e306eedca64e"
   }
  }
 },
 "nbformat": 4,
 "nbformat_minor": 2
}
