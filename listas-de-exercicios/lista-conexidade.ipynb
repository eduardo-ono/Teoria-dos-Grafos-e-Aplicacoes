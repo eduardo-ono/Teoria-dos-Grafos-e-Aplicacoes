{
 "cells": [
  {
   "cell_type": "markdown",
   "metadata": {},
   "source": [
    "<div align=\"center\">\n",
    "\n",
    "# Lista - Conexidade e Conectividade\n",
    "\n",
    "#### Prof. Eduardo Ono\n",
    "\n",
    "&nbsp;\n",
    "\n",
    "</div>"
   ]
  },
  {
   "cell_type": "markdown",
   "metadata": {},
   "source": [
    "__EXERCÍCIO 1.__ &nbsp;\n",
    "Se $G$ é um grafo simples, então\n",
    "\n",
    "$$ K_v(G) \\le \\frac{2 \\cdot |E|}{n} .$$\n",
    "\n",
    "&nbsp;\n",
    "\n",
    "<!-- [GIBBONS_1985p64]>"
   ]
  },
  {
   "cell_type": "markdown",
   "metadata": {},
   "source": [
    "__EXERCÍCIO 2.__ &nbsp;\n",
    "Mostre que se um grafo simples possui mais do que $\\frac{1}{2}(n-1)(n-2)$ arestas, onde $n = |G|$, então $G$ é conexo.\n",
    "\n",
    "OBS.: Em linguagem mais formal:\n",
    "\n",
    "Se $G$ é um grafo simples e $|G| > \\frac{1}{2}(n-1)(n-2)$, então $G$ é conexo.\n",
    "\n",
    "&nbsp;\n",
    "\n",
    "<!-- [GIBBONS_1985p33]-->"
   ]
  },
  {
   "cell_type": "markdown",
   "metadata": {},
   "source": []
  },
  {
   "cell_type": "markdown",
   "metadata": {},
   "source": []
  },
  {
   "cell_type": "markdown",
   "metadata": {},
   "source": []
  }
 ],
 "metadata": {
  "kernelspec": {
   "display_name": "Python 3.9.13 ('grafos')",
   "language": "python",
   "name": "python3"
  },
  "language_info": {
   "name": "python",
   "version": "3.9.13"
  },
  "orig_nbformat": 4,
  "vscode": {
   "interpreter": {
    "hash": "9f7dbbe4e07c9ae3e2c2b938d72170f008c0d97211cd9ca382ca202f35b48522"
   }
  }
 },
 "nbformat": 4,
 "nbformat_minor": 2
}
