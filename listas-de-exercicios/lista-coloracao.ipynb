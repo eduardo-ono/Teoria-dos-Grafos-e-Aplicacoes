{
 "cells": [
  {
   "cell_type": "markdown",
   "metadata": {},
   "source": [
    "<h1 align=\"center\">Coloração</h1>\n",
    "\n",
    "<h4 align=\"center\">Prof. Eduardo Ono</h4>\n",
    "\n",
    "&nbsp;"
   ]
  },
  {
   "cell_type": "markdown",
   "metadata": {},
   "source": [
    "__EXERCÍCIO 1.__ &nbsp;\n",
    "Considere um ciclo $C_n$. Mostre que:\n",
    "\n",
    "$$\n",
    "\\chi(C_n) = \\begin{cases} 2 \\quad\\text{se } n \\text{ é par} \\\\ 3 \\quad\\text{se } n \\text{ é ímpar} \\end{cases}\n",
    "$$\n",
    "\n",
    "<sub>Ref.: [SCHEINERMAN_2016p502]</sub>\n",
    "\n",
    "&nbsp;"
   ]
  },
  {
   "cell_type": "markdown",
   "metadata": {},
   "source": [
    "__EXERCÍCIO 2.__ &nbsp;\n",
    "Escreva um programa em Python que determina o número cromático $\\chi$ de um grafo $G$, criado pela biblioteca NetworkX.\n",
    "\n",
    "<sub>Ref.: [SZWARCFITER_2018p221_229]</sub>\n",
    "\n",
    "&nbsp;"
   ]
  },
  {
   "cell_type": "markdown",
   "metadata": {},
   "source": [
    "__EXERCÍCIO 3.__ &nbsp;\n",
    "Resolva o jogo Sudoku a seguir e veifique se a solução é única, ou não.\n",
    "\n",
    "<p align=\"center\">\n",
    "    <img src=\"./figuras/sudoku-01.png\" alt=\"img\" width=\"480px\">\n",
    "</p>"
   ]
  }
 ],
 "metadata": {
  "kernelspec": {
   "display_name": "Python 3.9.13 ('base')",
   "language": "python",
   "name": "python3"
  },
  "language_info": {
   "name": "python",
   "version": "3.9.13"
  },
  "orig_nbformat": 4,
  "vscode": {
   "interpreter": {
    "hash": "6ca436f98112c699fca53176ca9b2af64a577e7d8248f3b63a91e306eedca64e"
   }
  }
 },
 "nbformat": 4,
 "nbformat_minor": 2
}
