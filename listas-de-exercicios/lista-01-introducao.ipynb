{
 "cells": [
  {
   "cell_type": "markdown",
   "metadata": {},
   "source": [
    "> Teoria dos Grafos e Aplicações\n",
    "\n",
    "<div align=\"center\">\n",
    "\n",
    "# Lista 1 - Introdução\n",
    "\n",
    "__Prof. Eduardo Ono__\n",
    "\n",
    "</div>"
   ]
  },
  {
   "cell_type": "markdown",
   "metadata": {},
   "source": [
    "#### Exercício 1.\n",
    "\n",
    "Assistir ao vídeo \"Why Does Russia Own This Old Piece of Germany?\", disponível em:\n",
    "\n",
    "https://www.youtube.com/watch?v=b2f9Zf-MDtU\n",
    "\n",
    "Elaborar um enunciado para o problema das sete pontes de Königsberg.\n",
    "\n",
    "&nbsp;"
   ]
  },
  {
   "cell_type": "markdown",
   "metadata": {},
   "source": [
    "#### Exercício 2.\n",
    "\n",
    "Elaborar possíveis soluções para problemas equivalentes ao das pontes de Königsberg.\n",
    "\n",
    "&nbsp;"
   ]
  }
 ],
 "metadata": {
  "kernelspec": {
   "display_name": "Python 3.9.13 ('grafos')",
   "language": "python",
   "name": "python3"
  },
  "language_info": {
   "name": "python",
   "version": "3.9.13"
  },
  "orig_nbformat": 4,
  "vscode": {
   "interpreter": {
    "hash": "1c7fb69ec0120a7bfae17680f5348dc79368d3eaaea67ee440f5569267ea8c67"
   }
  }
 },
 "nbformat": 4,
 "nbformat_minor": 2
}
