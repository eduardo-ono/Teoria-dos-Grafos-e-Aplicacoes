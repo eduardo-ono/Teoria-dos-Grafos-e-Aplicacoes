{
 "cells": [
  {
   "cell_type": "markdown",
   "metadata": {},
   "source": [
    "\n",
    "<p style=\"padding: 10px; border: 1px solid\">\n",
    "Teoria dos Grafos e Aplicações\n",
    "</p>"
   ]
  },
  {
   "cell_type": "markdown",
   "metadata": {},
   "source": [
    "<h1 align=\"center\">Lista - Grafos Eulerianos e Hamiltonianos</h1>\n",
    "\n",
    "<h4 align=\"center\">Prof. Eduardo Ono</h4>\n",
    "\n",
    "&nbsp;"
   ]
  },
  {
   "cell_type": "markdown",
   "metadata": {},
   "source": [
    "__EXERCÍCIO 1.__ (problema do circuito de Euler)\n",
    "\n",
    "$\\qquad$ Desenhe os gráficos a seguir usando papel e caneta (ou lápis), de modo que cada linha (aresta) seja desenhada apenas uma única vez. Além disso, a caneta deverá estar o tempo todo em contato com o papel.\n",
    "\n"
   ]
  },
  {
   "cell_type": "code",
   "execution_count": 164,
   "metadata": {},
   "outputs": [],
   "source": [
    "import networkx as nx\n",
    "import matplotlib.pyplot as plt\n",
    "from networkx.drawing.nx_agraph import graphviz_layout\n",
    "\n",
    "def nx_draw_options(font_size=8, node_size=200, node_color='coral', with_labels=True):\n",
    "    return {\n",
    "        'font_size': font_size,\n",
    "        'node_size': node_size,\n",
    "        'node_color': node_color,\n",
    "        'with_labels': with_labels\n",
    "    }\n",
    "\n",
    "def plt_figure_options(figsize=[400,300], dpi=150):\n",
    "    figsize = [figsize[0]/dpi, figsize[1]/dpi]\n",
    "    return {\n",
    "        'figsize': figsize,\n",
    "        'dpi': dpi\n",
    "    }"
   ]
  },
  {
   "cell_type": "code",
   "execution_count": 165,
   "metadata": {},
   "outputs": [
    {
     "data": {
      "image/png": "[encoded data removed]",
      "text/plain": [
       "<Figure size 300x400 with 1 Axes>"
      ]
     },
     "metadata": {},
     "output_type": "display_data"
    }
   ],
   "source": [
    "# Lista - Exercício 1\n",
    "# Ref.: [KURGALIN-2e_2020p190]\n",
    "\n",
    "E = [\n",
    "    ('A','B'), ('A','C'),\n",
    "    ('B','C'), ('B','D'), ('B','E'),\n",
    "    ('C','D'), ('C','E'),\n",
    "    ('D','E'), ('D','F'),\n",
    "    ('E','F')\n",
    "]\n",
    "\n",
    "# Dicionário com as posições dos vértices\n",
    "pos = {\n",
    "    'A': (0, 2),\n",
    "    'B': (-1, 1),\n",
    "    'C': (1, 1),\n",
    "    'D': (-1, -1),\n",
    "    'E': (1, -1),\n",
    "    'F': (0, -2)\n",
    "}\n",
    "\n",
    "G = nx.Graph(E)\n",
    "plt.figure(**plt_figure_options(figsize=[300,400]))\n",
    "nx.draw(G, pos, **nx_draw_options())"
   ]
  }
 ],
 "metadata": {
  "kernelspec": {
   "display_name": "Python 3.9.13 ('grafos')",
   "language": "python",
   "name": "python3"
  },
  "language_info": {
   "codemirror_mode": {
    "name": "ipython",
    "version": 3
   },
   "file_extension": ".py",
   "mimetype": "text/x-python",
   "name": "python",
   "nbconvert_exporter": "python",
   "pygments_lexer": "ipython3",
   "version": "3.9.13"
  },
  "orig_nbformat": 4,
  "vscode": {
   "interpreter": {
    "hash": "9f7dbbe4e07c9ae3e2c2b938d72170f008c0d97211cd9ca382ca202f35b48522"
   }
  }
 },
 "nbformat": 4,
 "nbformat_minor": 2
}
