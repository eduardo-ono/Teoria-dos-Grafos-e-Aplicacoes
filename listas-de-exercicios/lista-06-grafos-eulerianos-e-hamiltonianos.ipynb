{
 "cells": [
  {
   "cell_type": "markdown",
   "metadata": {},
   "source": [
    "\n",
    "<p style=\"padding: 10px; border: 1px solid\">\n",
    "Teoria dos Grafos e Aplicações\n",
    "</p>"
   ]
  },
  {
   "cell_type": "markdown",
   "metadata": {},
   "source": [
    "<h1 align=\"center\">Lista 6 - Grafos Eulerianos e Hamiltonianos</h1>\n",
    "\n",
    "<h4 align=\"center\">Prof. Eduardo Ono</h4>\n",
    "\n",
    "&nbsp;"
   ]
  },
  {
   "cell_type": "code",
   "execution_count": 10,
   "metadata": {},
   "outputs": [],
   "source": [
    "import networkx as nx\n",
    "import matplotlib.pyplot as plt\n",
    "from networkx.drawing.nx_agraph import graphviz_layout\n",
    "\n",
    "def nx_draw_options(font_size=8, node_size=200, node_color='coral', with_labels=True):\n",
    "    return {\n",
    "        'font_size': font_size,\n",
    "        'node_size': node_size,\n",
    "        'node_color': node_color,\n",
    "        'with_labels': with_labels\n",
    "    }\n",
    "\n",
    "def plt_figure_options(figsize=[400,300], dpi=150):\n",
    "    figsize = [figsize[0]/dpi, figsize[1]/dpi]\n",
    "    return {\n",
    "        'figsize': figsize,\n",
    "        'dpi': dpi\n",
    "    }"
   ]
  },
  {
   "cell_type": "markdown",
   "metadata": {},
   "source": [
    "&nbsp;\n",
    "\n",
    "__EXERCÍCIO 1.__ [Ref.: https://www.youtube.com/watch?v=dfgkEYIIIQ4]\n",
    "\n",
    "$\\qquad$ Nas figuras a seguir, determine quais podem e quais não podem ser desenhadas com lápis e papel, de modo que cada linha seja desenhada apenas uma única vez, mantendo-se o contato do lápis com o papel o tempo todo. Justifique sua resposta.\n",
    "\n",
    "<p align=\"center\"><img src=\"./figuras/lista06-e1.jpg\" alt=\"img\" width=\"450px\"></p>\n",
    "\n",
    "\n",
    "* Resp.:\n",
    "\n",
    "| Thumb | Descrição | Tópicos Abordados |\n",
    "| :-: | --- | --- |\n",
    "| [![img](https://img.youtube.com/vi/dCDfyVxsHco/default.jpg)](https://www.youtube.com/watch?v=dCDfyVxsHco) | <sup>[MathGurl]</sup><br>[__SOLUÇÃO DO DESAFIO #1: CAMINHOS EULERIANOS__](https://www.youtube.com/watch?v=dCDfyVxsHco)<br><sub>(12:41, YouTube, Set/2020)</sub> | "
   ]
  },
  {
   "cell_type": "markdown",
   "metadata": {},
   "source": [
    "&nbsp;\n",
    "\n",
    "__EXERCÍCIO 2.__ (problema do circuito de Euler)\n",
    "\n",
    "$\\qquad$ Dentre as duas figuras a seguir, qual é a mais fácil de desenhar usando lápis e papel, de modo que cada linha seja desenhada apenas uma única vez, mantendo-se o lápis o tempo todo em contato com o papel? Justifique sua resposta."
   ]
  },
  {
   "cell_type": "code",
   "execution_count": 11,
   "metadata": {},
   "outputs": [
    {
     "data": {
      "image/png": "[encoded data removed]",
      "text/plain": [
       "<Figure size 600x400 with 2 Axes>"
      ]
     },
     "metadata": {},
     "output_type": "display_data"
    }
   ],
   "source": [
    "# Lista - Exercício 1\n",
    "# Ref.: [KURGALIN-2e_2020p190]\n",
    "\n",
    "E1 = [\n",
    "    ('A','B'), ('A','C'),\n",
    "    ('B','C'), ('B','D'), ('B','E'),\n",
    "    ('C','D'), ('C','E'),\n",
    "    ('D','E'), ('D','F'),\n",
    "    ('E','F')\n",
    "]\n",
    "\n",
    "# Dicionário com as posições dos vértices\n",
    "pos1 = {\n",
    "    'A': (0, 2),\n",
    "    'B': (-1, 1),\n",
    "    'C': (1, 1),\n",
    "    'D': (-1, -1),\n",
    "    'E': (1, -1),\n",
    "    'F': (0, -2)\n",
    "}\n",
    "\n",
    "E2 = [\n",
    "    ('A','B'), ('A','C'),\n",
    "    ('B','C'), ('B','D'), ('B','E'),\n",
    "    ('C','D'), ('C','E'),\n",
    "    ('D','E')\n",
    "]\n",
    "\n",
    "# Dicionário com as posições dos vértices\n",
    "pos2 = {\n",
    "    'A': (0, 2),\n",
    "    'B': (-1, 1),\n",
    "    'C': (1, 1),\n",
    "    'D': (-1, -1),\n",
    "    'E': (1, -1),\n",
    "}\n",
    "\n",
    "\n",
    "G1 = nx.Graph(E1)\n",
    "plt.figure(1, **plt_figure_options(figsize=[600, 400]))\n",
    "plt.subplot(1, 2, 1) # num_linhas, num_cols, index\n",
    "nx.draw(G1, pos1, **nx_draw_options())\n",
    "G2 = nx.Graph(E2)\n",
    "plt.subplot(1, 2, 2) # num_linhas, num_cols, index\n",
    "nx.draw(G2, pos2, **nx_draw_options())"
   ]
  },
  {
   "cell_type": "markdown",
   "metadata": {},
   "source": [
    "&nbsp;\n",
    "\n",
    "__EXERCÍCIO 3.__\n",
    "\n",
    "&nbsp;&nbsp;&nbsp;&nbsp;&nbsp;&nbsp;&nbsp;&nbsp; Considerando os dois tabuleiros a seguir, verifique se é possível, ou não, desenhar uma linha contínua que passe por todas as casas exatamente uma vez, sendo que a linha só pode ser desenhada na direção horizontal ou vertical (não pode na diagonal). Justifique sua resposta.\n",
    "\n",
    "<p align=\"center\">\n",
    "    <img src=\"./figuras/desafio-tabuleiro.png\" alt=\"img\" width=\"600px\">\n",
    "</p>\n",
    "\n",
    "&nbsp;\n",
    "\n",
    "* Resp.:\n",
    "\n",
    "    | Thumb | Descrição | Tópicos Abordados |\n",
    "    | :-: | --- | --- |\n",
    "    | [![img](https://img.youtube.com/vi/68S0J2w378c/default.jpg)](https://www.youtube.com/watch?v=68S0J2w378c) | <sup>[MathGurl]</sup><br>[__SOLUÇÃO DO DESAFIO #2: CAMINHOS HAMILTONIANOS__](https://www.youtube.com/watch?v=68S0J2w378c)<br><sub>(7:11, YouTube, Set/2020)</sub> | "
   ]
  },
  {
   "cell_type": "markdown",
   "metadata": {},
   "source": [
    "&nbsp;\n",
    "\n",
    "__EXERCÍCIO 4.__ (números de Ramsey) [Ref.: https://www.youtube.com/watch?v=IzvSxaif4Eg]\n",
    "\n",
    "* Enunciado:\n",
    "\n",
    "    | Thumb | Descrição | Tópicos Abordados |\n",
    "    | :-: | --- | --- |\n",
    "    | [![img](https://img.youtube.com/vi/IzvSxaif4Eg/default.jpg)](https://www.youtube.com/watch?v=IzvSxaif4Eg) | <sup>[MathGurl]</sup><br>[__DESAFIO #3: O JOGO DO HEXÁGONO (SIM)__](https://www.youtube.com/watch?v=IzvSxaif4Eg)<br><sub>(3:01, YouTube, Out/2020)</sub> |  \n",
    "\n",
    "&nbsp;\n",
    "\n",
    "* Resp.:\n",
    "\n",
    "    | Thumb | Descrição | Tópicos Abordados |\n",
    "    | :-: | --- | --- |\n",
    "    | [![img](https://img.youtube.com/vi/55j-EAhcpKU/default.jpg)](https://www.youtube.com/watch?v=55j-EAhcpKU) | <sup>[MathGurl]</sup><br>[__SOLUÇÃO DO DESAFIO #3: NÚMEROS DE RAMSEY__](https://www.youtube.com/watch?v=55j-EAhcpKU)<br><sub>(11:07, YouTube, Out/2020)</sub> | \n"
   ]
  }
 ],
 "metadata": {
  "kernelspec": {
   "display_name": "python3-grafos",
   "language": "python",
   "name": "python3-grafos"
  },
  "language_info": {
   "codemirror_mode": {
    "name": "ipython",
    "version": 3
   },
   "file_extension": ".py",
   "mimetype": "text/x-python",
   "name": "python",
   "nbconvert_exporter": "python",
   "pygments_lexer": "ipython3",
   "version": "3.9.13"
  },
  "orig_nbformat": 4,
  "vscode": {
   "interpreter": {
    "hash": "6ca436f98112c699fca53176ca9b2af64a577e7d8248f3b63a91e306eedca64e"
   }
  }
 },
 "nbformat": 4,
 "nbformat_minor": 2
}
